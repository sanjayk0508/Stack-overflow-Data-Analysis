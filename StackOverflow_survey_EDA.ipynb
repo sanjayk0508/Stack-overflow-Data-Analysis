{
  "nbformat": 4,
  "nbformat_minor": 0,
  "metadata": {
    "colab": {
      "provenance": [],
      "authorship_tag": "ABX9TyPueZLNQTWiOsAtm0SNMWZ7",
      "include_colab_link": true
    },
    "kernelspec": {
      "name": "python3",
      "display_name": "Python 3"
    },
    "language_info": {
      "name": "python"
    }
  },
  "cells": [
    {
      "cell_type": "markdown",
      "metadata": {
        "id": "view-in-github",
        "colab_type": "text"
      },
      "source": [
        "<a href=\"https://colab.research.google.com/github/sanjayk0508/Stack-overflow-Data-Analysis/blob/main/StackOverflow_survey_EDA.ipynb\" target=\"_parent\"><img src=\"https://colab.research.google.com/assets/colab-badge.svg\" alt=\"Open In Colab\"/></a>"
      ]
    },
    {
      "cell_type": "markdown",
      "source": [
        "#Stack Overflow Developer Survey Data analysis"
      ],
      "metadata": {
        "id": "Ppk8Zl7IfZBV"
      }
    },
    {
      "cell_type": "markdown",
      "source": [
        "#Introduction\n",
        "The Stack Overflow Developer Survey is an annual global survey conducted by Stack Overflow, offering insights into the diverse demographics, preferences, and trends among software developers worldwide. It serves as a comprehensive resource for understanding developer behaviors, technology choices, and career-related aspects within the software development industry."
      ],
      "metadata": {
        "id": "TCEcyzaqO5Wi"
      }
    },
    {
      "cell_type": "code",
      "execution_count": 2,
      "metadata": {
        "id": "lfiE5kdfj1w4"
      },
      "outputs": [],
      "source": [
        "import pandas as pd\n",
        "import numpy as np"
      ]
    },
    {
      "cell_type": "code",
      "source": [
        "survey_raw_df = pd.read_csv(\"/content/survey_results_public.csv\")\n",
        "survey_raw_df"
      ],
      "metadata": {
        "colab": {
          "base_uri": "https://localhost:8080/",
          "height": 912
        },
        "id": "QmbPYhkZPAfQ",
        "outputId": "c0c73b9f-1fe8-4d0c-f3ad-fcd22637f489"
      },
      "execution_count": 3,
      "outputs": [
        {
          "output_type": "execute_result",
          "data": {
            "text/plain": [
              "       Respondent                                         MainBranch Hobbyist  \\\n",
              "0               1                     I am a developer by profession      Yes   \n",
              "1               2                     I am a developer by profession       No   \n",
              "2               3                        I code primarily as a hobby      Yes   \n",
              "3               4                     I am a developer by profession      Yes   \n",
              "4               5  I used to be a developer by profession, but no...      Yes   \n",
              "...           ...                                                ...      ...   \n",
              "64456       64858                                                NaN      Yes   \n",
              "64457       64867                                                NaN      Yes   \n",
              "64458       64898                                                NaN      Yes   \n",
              "64459       64925                                                NaN      Yes   \n",
              "64460       65112                                                NaN      Yes   \n",
              "\n",
              "        Age Age1stCode CompFreq  CompTotal  ConvertedComp             Country  \\\n",
              "0       NaN         13  Monthly        NaN            NaN             Germany   \n",
              "1       NaN         19      NaN        NaN            NaN      United Kingdom   \n",
              "2       NaN         15      NaN        NaN            NaN  Russian Federation   \n",
              "3      25.0         18      NaN        NaN            NaN             Albania   \n",
              "4      31.0         16      NaN        NaN            NaN       United States   \n",
              "...     ...        ...      ...        ...            ...                 ...   \n",
              "64456   NaN         16      NaN        NaN            NaN       United States   \n",
              "64457   NaN        NaN      NaN        NaN            NaN             Morocco   \n",
              "64458   NaN        NaN      NaN        NaN            NaN            Viet Nam   \n",
              "64459   NaN        NaN      NaN        NaN            NaN              Poland   \n",
              "64460   NaN        NaN      NaN        NaN            NaN               Spain   \n",
              "\n",
              "         CurrencyDesc  ...                  SurveyEase           SurveyLength  \\\n",
              "0       European Euro  ...  Neither easy nor difficult  Appropriate in length   \n",
              "1      Pound sterling  ...                         NaN                    NaN   \n",
              "2                 NaN  ...  Neither easy nor difficult  Appropriate in length   \n",
              "3        Albanian lek  ...                         NaN                    NaN   \n",
              "4                 NaN  ...                        Easy              Too short   \n",
              "...               ...  ...                         ...                    ...   \n",
              "64456             NaN  ...                         NaN                    NaN   \n",
              "64457             NaN  ...                         NaN                    NaN   \n",
              "64458             NaN  ...                         NaN                    NaN   \n",
              "64459             NaN  ...                         NaN                    NaN   \n",
              "64460             NaN  ...                         NaN                    NaN   \n",
              "\n",
              "      Trans                                     UndergradMajor  \\\n",
              "0        No  Computer science, computer engineering, or sof...   \n",
              "1       NaN  Computer science, computer engineering, or sof...   \n",
              "2       NaN                                                NaN   \n",
              "3        No  Computer science, computer engineering, or sof...   \n",
              "4        No  Computer science, computer engineering, or sof...   \n",
              "...     ...                                                ...   \n",
              "64456   NaN  Computer science, computer engineering, or sof...   \n",
              "64457   NaN                                                NaN   \n",
              "64458   NaN                                                NaN   \n",
              "64459   NaN                                                NaN   \n",
              "64460   NaN  Computer science, computer engineering, or sof...   \n",
              "\n",
              "            WebframeDesireNextYear                      WebframeWorkedWith  \\\n",
              "0                     ASP.NET Core                    ASP.NET;ASP.NET Core   \n",
              "1                              NaN                                     NaN   \n",
              "2                              NaN                                     NaN   \n",
              "3                              NaN                                     NaN   \n",
              "4             Django;Ruby on Rails                           Ruby on Rails   \n",
              "...                            ...                                     ...   \n",
              "64456                          NaN                                     NaN   \n",
              "64457                          NaN                                     NaN   \n",
              "64458                          NaN                                     NaN   \n",
              "64459  Angular;Angular.js;React.js                                     NaN   \n",
              "64460          ASP.NET Core;jQuery  Angular;Angular.js;ASP.NET Core;jQuery   \n",
              "\n",
              "                                  WelcomeChange WorkWeekHrs YearsCode  \\\n",
              "0       Just as welcome now as I felt last year        50.0        36   \n",
              "1      Somewhat more welcome now than last year         NaN         7   \n",
              "2      Somewhat more welcome now than last year         NaN         4   \n",
              "3      Somewhat less welcome now than last year        40.0         7   \n",
              "4       Just as welcome now as I felt last year         NaN        15   \n",
              "...                                         ...         ...       ...   \n",
              "64456                                       NaN         NaN        10   \n",
              "64457                                       NaN         NaN       NaN   \n",
              "64458                                       NaN         NaN       NaN   \n",
              "64459                                       NaN         NaN       NaN   \n",
              "64460                                       NaN         NaN       NaN   \n",
              "\n",
              "           YearsCodePro  \n",
              "0                    27  \n",
              "1                     4  \n",
              "2                   NaN  \n",
              "3                     4  \n",
              "4                     8  \n",
              "...                 ...  \n",
              "64456  Less than 1 year  \n",
              "64457               NaN  \n",
              "64458               NaN  \n",
              "64459               NaN  \n",
              "64460               NaN  \n",
              "\n",
              "[64461 rows x 61 columns]"
            ],
            "text/html": [
              "\n",
              "  <div id=\"df-b4c91cfd-8a0d-48b0-a083-5233e68d40b2\" class=\"colab-df-container\">\n",
              "    <div>\n",
              "<style scoped>\n",
              "    .dataframe tbody tr th:only-of-type {\n",
              "        vertical-align: middle;\n",
              "    }\n",
              "\n",
              "    .dataframe tbody tr th {\n",
              "        vertical-align: top;\n",
              "    }\n",
              "\n",
              "    .dataframe thead th {\n",
              "        text-align: right;\n",
              "    }\n",
              "</style>\n",
              "<table border=\"1\" class=\"dataframe\">\n",
              "  <thead>\n",
              "    <tr style=\"text-align: right;\">\n",
              "      <th></th>\n",
              "      <th>Respondent</th>\n",
              "      <th>MainBranch</th>\n",
              "      <th>Hobbyist</th>\n",
              "      <th>Age</th>\n",
              "      <th>Age1stCode</th>\n",
              "      <th>CompFreq</th>\n",
              "      <th>CompTotal</th>\n",
              "      <th>ConvertedComp</th>\n",
              "      <th>Country</th>\n",
              "      <th>CurrencyDesc</th>\n",
              "      <th>...</th>\n",
              "      <th>SurveyEase</th>\n",
              "      <th>SurveyLength</th>\n",
              "      <th>Trans</th>\n",
              "      <th>UndergradMajor</th>\n",
              "      <th>WebframeDesireNextYear</th>\n",
              "      <th>WebframeWorkedWith</th>\n",
              "      <th>WelcomeChange</th>\n",
              "      <th>WorkWeekHrs</th>\n",
              "      <th>YearsCode</th>\n",
              "      <th>YearsCodePro</th>\n",
              "    </tr>\n",
              "  </thead>\n",
              "  <tbody>\n",
              "    <tr>\n",
              "      <th>0</th>\n",
              "      <td>1</td>\n",
              "      <td>I am a developer by profession</td>\n",
              "      <td>Yes</td>\n",
              "      <td>NaN</td>\n",
              "      <td>13</td>\n",
              "      <td>Monthly</td>\n",
              "      <td>NaN</td>\n",
              "      <td>NaN</td>\n",
              "      <td>Germany</td>\n",
              "      <td>European Euro</td>\n",
              "      <td>...</td>\n",
              "      <td>Neither easy nor difficult</td>\n",
              "      <td>Appropriate in length</td>\n",
              "      <td>No</td>\n",
              "      <td>Computer science, computer engineering, or sof...</td>\n",
              "      <td>ASP.NET Core</td>\n",
              "      <td>ASP.NET;ASP.NET Core</td>\n",
              "      <td>Just as welcome now as I felt last year</td>\n",
              "      <td>50.0</td>\n",
              "      <td>36</td>\n",
              "      <td>27</td>\n",
              "    </tr>\n",
              "    <tr>\n",
              "      <th>1</th>\n",
              "      <td>2</td>\n",
              "      <td>I am a developer by profession</td>\n",
              "      <td>No</td>\n",
              "      <td>NaN</td>\n",
              "      <td>19</td>\n",
              "      <td>NaN</td>\n",
              "      <td>NaN</td>\n",
              "      <td>NaN</td>\n",
              "      <td>United Kingdom</td>\n",
              "      <td>Pound sterling</td>\n",
              "      <td>...</td>\n",
              "      <td>NaN</td>\n",
              "      <td>NaN</td>\n",
              "      <td>NaN</td>\n",
              "      <td>Computer science, computer engineering, or sof...</td>\n",
              "      <td>NaN</td>\n",
              "      <td>NaN</td>\n",
              "      <td>Somewhat more welcome now than last year</td>\n",
              "      <td>NaN</td>\n",
              "      <td>7</td>\n",
              "      <td>4</td>\n",
              "    </tr>\n",
              "    <tr>\n",
              "      <th>2</th>\n",
              "      <td>3</td>\n",
              "      <td>I code primarily as a hobby</td>\n",
              "      <td>Yes</td>\n",
              "      <td>NaN</td>\n",
              "      <td>15</td>\n",
              "      <td>NaN</td>\n",
              "      <td>NaN</td>\n",
              "      <td>NaN</td>\n",
              "      <td>Russian Federation</td>\n",
              "      <td>NaN</td>\n",
              "      <td>...</td>\n",
              "      <td>Neither easy nor difficult</td>\n",
              "      <td>Appropriate in length</td>\n",
              "      <td>NaN</td>\n",
              "      <td>NaN</td>\n",
              "      <td>NaN</td>\n",
              "      <td>NaN</td>\n",
              "      <td>Somewhat more welcome now than last year</td>\n",
              "      <td>NaN</td>\n",
              "      <td>4</td>\n",
              "      <td>NaN</td>\n",
              "    </tr>\n",
              "    <tr>\n",
              "      <th>3</th>\n",
              "      <td>4</td>\n",
              "      <td>I am a developer by profession</td>\n",
              "      <td>Yes</td>\n",
              "      <td>25.0</td>\n",
              "      <td>18</td>\n",
              "      <td>NaN</td>\n",
              "      <td>NaN</td>\n",
              "      <td>NaN</td>\n",
              "      <td>Albania</td>\n",
              "      <td>Albanian lek</td>\n",
              "      <td>...</td>\n",
              "      <td>NaN</td>\n",
              "      <td>NaN</td>\n",
              "      <td>No</td>\n",
              "      <td>Computer science, computer engineering, or sof...</td>\n",
              "      <td>NaN</td>\n",
              "      <td>NaN</td>\n",
              "      <td>Somewhat less welcome now than last year</td>\n",
              "      <td>40.0</td>\n",
              "      <td>7</td>\n",
              "      <td>4</td>\n",
              "    </tr>\n",
              "    <tr>\n",
              "      <th>4</th>\n",
              "      <td>5</td>\n",
              "      <td>I used to be a developer by profession, but no...</td>\n",
              "      <td>Yes</td>\n",
              "      <td>31.0</td>\n",
              "      <td>16</td>\n",
              "      <td>NaN</td>\n",
              "      <td>NaN</td>\n",
              "      <td>NaN</td>\n",
              "      <td>United States</td>\n",
              "      <td>NaN</td>\n",
              "      <td>...</td>\n",
              "      <td>Easy</td>\n",
              "      <td>Too short</td>\n",
              "      <td>No</td>\n",
              "      <td>Computer science, computer engineering, or sof...</td>\n",
              "      <td>Django;Ruby on Rails</td>\n",
              "      <td>Ruby on Rails</td>\n",
              "      <td>Just as welcome now as I felt last year</td>\n",
              "      <td>NaN</td>\n",
              "      <td>15</td>\n",
              "      <td>8</td>\n",
              "    </tr>\n",
              "    <tr>\n",
              "      <th>...</th>\n",
              "      <td>...</td>\n",
              "      <td>...</td>\n",
              "      <td>...</td>\n",
              "      <td>...</td>\n",
              "      <td>...</td>\n",
              "      <td>...</td>\n",
              "      <td>...</td>\n",
              "      <td>...</td>\n",
              "      <td>...</td>\n",
              "      <td>...</td>\n",
              "      <td>...</td>\n",
              "      <td>...</td>\n",
              "      <td>...</td>\n",
              "      <td>...</td>\n",
              "      <td>...</td>\n",
              "      <td>...</td>\n",
              "      <td>...</td>\n",
              "      <td>...</td>\n",
              "      <td>...</td>\n",
              "      <td>...</td>\n",
              "      <td>...</td>\n",
              "    </tr>\n",
              "    <tr>\n",
              "      <th>64456</th>\n",
              "      <td>64858</td>\n",
              "      <td>NaN</td>\n",
              "      <td>Yes</td>\n",
              "      <td>NaN</td>\n",
              "      <td>16</td>\n",
              "      <td>NaN</td>\n",
              "      <td>NaN</td>\n",
              "      <td>NaN</td>\n",
              "      <td>United States</td>\n",
              "      <td>NaN</td>\n",
              "      <td>...</td>\n",
              "      <td>NaN</td>\n",
              "      <td>NaN</td>\n",
              "      <td>NaN</td>\n",
              "      <td>Computer science, computer engineering, or sof...</td>\n",
              "      <td>NaN</td>\n",
              "      <td>NaN</td>\n",
              "      <td>NaN</td>\n",
              "      <td>NaN</td>\n",
              "      <td>10</td>\n",
              "      <td>Less than 1 year</td>\n",
              "    </tr>\n",
              "    <tr>\n",
              "      <th>64457</th>\n",
              "      <td>64867</td>\n",
              "      <td>NaN</td>\n",
              "      <td>Yes</td>\n",
              "      <td>NaN</td>\n",
              "      <td>NaN</td>\n",
              "      <td>NaN</td>\n",
              "      <td>NaN</td>\n",
              "      <td>NaN</td>\n",
              "      <td>Morocco</td>\n",
              "      <td>NaN</td>\n",
              "      <td>...</td>\n",
              "      <td>NaN</td>\n",
              "      <td>NaN</td>\n",
              "      <td>NaN</td>\n",
              "      <td>NaN</td>\n",
              "      <td>NaN</td>\n",
              "      <td>NaN</td>\n",
              "      <td>NaN</td>\n",
              "      <td>NaN</td>\n",
              "      <td>NaN</td>\n",
              "      <td>NaN</td>\n",
              "    </tr>\n",
              "    <tr>\n",
              "      <th>64458</th>\n",
              "      <td>64898</td>\n",
              "      <td>NaN</td>\n",
              "      <td>Yes</td>\n",
              "      <td>NaN</td>\n",
              "      <td>NaN</td>\n",
              "      <td>NaN</td>\n",
              "      <td>NaN</td>\n",
              "      <td>NaN</td>\n",
              "      <td>Viet Nam</td>\n",
              "      <td>NaN</td>\n",
              "      <td>...</td>\n",
              "      <td>NaN</td>\n",
              "      <td>NaN</td>\n",
              "      <td>NaN</td>\n",
              "      <td>NaN</td>\n",
              "      <td>NaN</td>\n",
              "      <td>NaN</td>\n",
              "      <td>NaN</td>\n",
              "      <td>NaN</td>\n",
              "      <td>NaN</td>\n",
              "      <td>NaN</td>\n",
              "    </tr>\n",
              "    <tr>\n",
              "      <th>64459</th>\n",
              "      <td>64925</td>\n",
              "      <td>NaN</td>\n",
              "      <td>Yes</td>\n",
              "      <td>NaN</td>\n",
              "      <td>NaN</td>\n",
              "      <td>NaN</td>\n",
              "      <td>NaN</td>\n",
              "      <td>NaN</td>\n",
              "      <td>Poland</td>\n",
              "      <td>NaN</td>\n",
              "      <td>...</td>\n",
              "      <td>NaN</td>\n",
              "      <td>NaN</td>\n",
              "      <td>NaN</td>\n",
              "      <td>NaN</td>\n",
              "      <td>Angular;Angular.js;React.js</td>\n",
              "      <td>NaN</td>\n",
              "      <td>NaN</td>\n",
              "      <td>NaN</td>\n",
              "      <td>NaN</td>\n",
              "      <td>NaN</td>\n",
              "    </tr>\n",
              "    <tr>\n",
              "      <th>64460</th>\n",
              "      <td>65112</td>\n",
              "      <td>NaN</td>\n",
              "      <td>Yes</td>\n",
              "      <td>NaN</td>\n",
              "      <td>NaN</td>\n",
              "      <td>NaN</td>\n",
              "      <td>NaN</td>\n",
              "      <td>NaN</td>\n",
              "      <td>Spain</td>\n",
              "      <td>NaN</td>\n",
              "      <td>...</td>\n",
              "      <td>NaN</td>\n",
              "      <td>NaN</td>\n",
              "      <td>NaN</td>\n",
              "      <td>Computer science, computer engineering, or sof...</td>\n",
              "      <td>ASP.NET Core;jQuery</td>\n",
              "      <td>Angular;Angular.js;ASP.NET Core;jQuery</td>\n",
              "      <td>NaN</td>\n",
              "      <td>NaN</td>\n",
              "      <td>NaN</td>\n",
              "      <td>NaN</td>\n",
              "    </tr>\n",
              "  </tbody>\n",
              "</table>\n",
              "<p>64461 rows × 61 columns</p>\n",
              "</div>\n",
              "    <div class=\"colab-df-buttons\">\n",
              "\n",
              "  <div class=\"colab-df-container\">\n",
              "    <button class=\"colab-df-convert\" onclick=\"convertToInteractive('df-b4c91cfd-8a0d-48b0-a083-5233e68d40b2')\"\n",
              "            title=\"Convert this dataframe to an interactive table.\"\n",
              "            style=\"display:none;\">\n",
              "\n",
              "  <svg xmlns=\"http://www.w3.org/2000/svg\" height=\"24px\" viewBox=\"0 -960 960 960\">\n",
              "    <path d=\"M120-120v-720h720v720H120Zm60-500h600v-160H180v160Zm220 220h160v-160H400v160Zm0 220h160v-160H400v160ZM180-400h160v-160H180v160Zm440 0h160v-160H620v160ZM180-180h160v-160H180v160Zm440 0h160v-160H620v160Z\"/>\n",
              "  </svg>\n",
              "    </button>\n",
              "\n",
              "  <style>\n",
              "    .colab-df-container {\n",
              "      display:flex;\n",
              "      gap: 12px;\n",
              "    }\n",
              "\n",
              "    .colab-df-convert {\n",
              "      background-color: #E8F0FE;\n",
              "      border: none;\n",
              "      border-radius: 50%;\n",
              "      cursor: pointer;\n",
              "      display: none;\n",
              "      fill: #1967D2;\n",
              "      height: 32px;\n",
              "      padding: 0 0 0 0;\n",
              "      width: 32px;\n",
              "    }\n",
              "\n",
              "    .colab-df-convert:hover {\n",
              "      background-color: #E2EBFA;\n",
              "      box-shadow: 0px 1px 2px rgba(60, 64, 67, 0.3), 0px 1px 3px 1px rgba(60, 64, 67, 0.15);\n",
              "      fill: #174EA6;\n",
              "    }\n",
              "\n",
              "    .colab-df-buttons div {\n",
              "      margin-bottom: 4px;\n",
              "    }\n",
              "\n",
              "    [theme=dark] .colab-df-convert {\n",
              "      background-color: #3B4455;\n",
              "      fill: #D2E3FC;\n",
              "    }\n",
              "\n",
              "    [theme=dark] .colab-df-convert:hover {\n",
              "      background-color: #434B5C;\n",
              "      box-shadow: 0px 1px 3px 1px rgba(0, 0, 0, 0.15);\n",
              "      filter: drop-shadow(0px 1px 2px rgba(0, 0, 0, 0.3));\n",
              "      fill: #FFFFFF;\n",
              "    }\n",
              "  </style>\n",
              "\n",
              "    <script>\n",
              "      const buttonEl =\n",
              "        document.querySelector('#df-b4c91cfd-8a0d-48b0-a083-5233e68d40b2 button.colab-df-convert');\n",
              "      buttonEl.style.display =\n",
              "        google.colab.kernel.accessAllowed ? 'block' : 'none';\n",
              "\n",
              "      async function convertToInteractive(key) {\n",
              "        const element = document.querySelector('#df-b4c91cfd-8a0d-48b0-a083-5233e68d40b2');\n",
              "        const dataTable =\n",
              "          await google.colab.kernel.invokeFunction('convertToInteractive',\n",
              "                                                    [key], {});\n",
              "        if (!dataTable) return;\n",
              "\n",
              "        const docLinkHtml = 'Like what you see? Visit the ' +\n",
              "          '<a target=\"_blank\" href=https://colab.research.google.com/notebooks/data_table.ipynb>data table notebook</a>'\n",
              "          + ' to learn more about interactive tables.';\n",
              "        element.innerHTML = '';\n",
              "        dataTable['output_type'] = 'display_data';\n",
              "        await google.colab.output.renderOutput(dataTable, element);\n",
              "        const docLink = document.createElement('div');\n",
              "        docLink.innerHTML = docLinkHtml;\n",
              "        element.appendChild(docLink);\n",
              "      }\n",
              "    </script>\n",
              "  </div>\n",
              "\n",
              "\n",
              "<div id=\"df-fcc3bbf6-b2f9-4f8f-9cd7-bdf6a1112874\">\n",
              "  <button class=\"colab-df-quickchart\" onclick=\"quickchart('df-fcc3bbf6-b2f9-4f8f-9cd7-bdf6a1112874')\"\n",
              "            title=\"Suggest charts\"\n",
              "            style=\"display:none;\">\n",
              "\n",
              "<svg xmlns=\"http://www.w3.org/2000/svg\" height=\"24px\"viewBox=\"0 0 24 24\"\n",
              "     width=\"24px\">\n",
              "    <g>\n",
              "        <path d=\"M19 3H5c-1.1 0-2 .9-2 2v14c0 1.1.9 2 2 2h14c1.1 0 2-.9 2-2V5c0-1.1-.9-2-2-2zM9 17H7v-7h2v7zm4 0h-2V7h2v10zm4 0h-2v-4h2v4z\"/>\n",
              "    </g>\n",
              "</svg>\n",
              "  </button>\n",
              "\n",
              "<style>\n",
              "  .colab-df-quickchart {\n",
              "      --bg-color: #E8F0FE;\n",
              "      --fill-color: #1967D2;\n",
              "      --hover-bg-color: #E2EBFA;\n",
              "      --hover-fill-color: #174EA6;\n",
              "      --disabled-fill-color: #AAA;\n",
              "      --disabled-bg-color: #DDD;\n",
              "  }\n",
              "\n",
              "  [theme=dark] .colab-df-quickchart {\n",
              "      --bg-color: #3B4455;\n",
              "      --fill-color: #D2E3FC;\n",
              "      --hover-bg-color: #434B5C;\n",
              "      --hover-fill-color: #FFFFFF;\n",
              "      --disabled-bg-color: #3B4455;\n",
              "      --disabled-fill-color: #666;\n",
              "  }\n",
              "\n",
              "  .colab-df-quickchart {\n",
              "    background-color: var(--bg-color);\n",
              "    border: none;\n",
              "    border-radius: 50%;\n",
              "    cursor: pointer;\n",
              "    display: none;\n",
              "    fill: var(--fill-color);\n",
              "    height: 32px;\n",
              "    padding: 0;\n",
              "    width: 32px;\n",
              "  }\n",
              "\n",
              "  .colab-df-quickchart:hover {\n",
              "    background-color: var(--hover-bg-color);\n",
              "    box-shadow: 0 1px 2px rgba(60, 64, 67, 0.3), 0 1px 3px 1px rgba(60, 64, 67, 0.15);\n",
              "    fill: var(--button-hover-fill-color);\n",
              "  }\n",
              "\n",
              "  .colab-df-quickchart-complete:disabled,\n",
              "  .colab-df-quickchart-complete:disabled:hover {\n",
              "    background-color: var(--disabled-bg-color);\n",
              "    fill: var(--disabled-fill-color);\n",
              "    box-shadow: none;\n",
              "  }\n",
              "\n",
              "  .colab-df-spinner {\n",
              "    border: 2px solid var(--fill-color);\n",
              "    border-color: transparent;\n",
              "    border-bottom-color: var(--fill-color);\n",
              "    animation:\n",
              "      spin 1s steps(1) infinite;\n",
              "  }\n",
              "\n",
              "  @keyframes spin {\n",
              "    0% {\n",
              "      border-color: transparent;\n",
              "      border-bottom-color: var(--fill-color);\n",
              "      border-left-color: var(--fill-color);\n",
              "    }\n",
              "    20% {\n",
              "      border-color: transparent;\n",
              "      border-left-color: var(--fill-color);\n",
              "      border-top-color: var(--fill-color);\n",
              "    }\n",
              "    30% {\n",
              "      border-color: transparent;\n",
              "      border-left-color: var(--fill-color);\n",
              "      border-top-color: var(--fill-color);\n",
              "      border-right-color: var(--fill-color);\n",
              "    }\n",
              "    40% {\n",
              "      border-color: transparent;\n",
              "      border-right-color: var(--fill-color);\n",
              "      border-top-color: var(--fill-color);\n",
              "    }\n",
              "    60% {\n",
              "      border-color: transparent;\n",
              "      border-right-color: var(--fill-color);\n",
              "    }\n",
              "    80% {\n",
              "      border-color: transparent;\n",
              "      border-right-color: var(--fill-color);\n",
              "      border-bottom-color: var(--fill-color);\n",
              "    }\n",
              "    90% {\n",
              "      border-color: transparent;\n",
              "      border-bottom-color: var(--fill-color);\n",
              "    }\n",
              "  }\n",
              "</style>\n",
              "\n",
              "  <script>\n",
              "    async function quickchart(key) {\n",
              "      const quickchartButtonEl =\n",
              "        document.querySelector('#' + key + ' button');\n",
              "      quickchartButtonEl.disabled = true;  // To prevent multiple clicks.\n",
              "      quickchartButtonEl.classList.add('colab-df-spinner');\n",
              "      try {\n",
              "        const charts = await google.colab.kernel.invokeFunction(\n",
              "            'suggestCharts', [key], {});\n",
              "      } catch (error) {\n",
              "        console.error('Error during call to suggestCharts:', error);\n",
              "      }\n",
              "      quickchartButtonEl.classList.remove('colab-df-spinner');\n",
              "      quickchartButtonEl.classList.add('colab-df-quickchart-complete');\n",
              "    }\n",
              "    (() => {\n",
              "      let quickchartButtonEl =\n",
              "        document.querySelector('#df-fcc3bbf6-b2f9-4f8f-9cd7-bdf6a1112874 button');\n",
              "      quickchartButtonEl.style.display =\n",
              "        google.colab.kernel.accessAllowed ? 'block' : 'none';\n",
              "    })();\n",
              "  </script>\n",
              "</div>\n",
              "\n",
              "  <div id=\"id_90884c51-a85f-4f1e-9cdf-64285ec698c6\">\n",
              "    <style>\n",
              "      .colab-df-generate {\n",
              "        background-color: #E8F0FE;\n",
              "        border: none;\n",
              "        border-radius: 50%;\n",
              "        cursor: pointer;\n",
              "        display: none;\n",
              "        fill: #1967D2;\n",
              "        height: 32px;\n",
              "        padding: 0 0 0 0;\n",
              "        width: 32px;\n",
              "      }\n",
              "\n",
              "      .colab-df-generate:hover {\n",
              "        background-color: #E2EBFA;\n",
              "        box-shadow: 0px 1px 2px rgba(60, 64, 67, 0.3), 0px 1px 3px 1px rgba(60, 64, 67, 0.15);\n",
              "        fill: #174EA6;\n",
              "      }\n",
              "\n",
              "      [theme=dark] .colab-df-generate {\n",
              "        background-color: #3B4455;\n",
              "        fill: #D2E3FC;\n",
              "      }\n",
              "\n",
              "      [theme=dark] .colab-df-generate:hover {\n",
              "        background-color: #434B5C;\n",
              "        box-shadow: 0px 1px 3px 1px rgba(0, 0, 0, 0.15);\n",
              "        filter: drop-shadow(0px 1px 2px rgba(0, 0, 0, 0.3));\n",
              "        fill: #FFFFFF;\n",
              "      }\n",
              "    </style>\n",
              "    <button class=\"colab-df-generate\" onclick=\"generateWithVariable('survey_raw_df')\"\n",
              "            title=\"Generate code using this dataframe.\"\n",
              "            style=\"display:none;\">\n",
              "\n",
              "  <svg xmlns=\"http://www.w3.org/2000/svg\" height=\"24px\"viewBox=\"0 0 24 24\"\n",
              "       width=\"24px\">\n",
              "    <path d=\"M7,19H8.4L18.45,9,17,7.55,7,17.6ZM5,21V16.75L18.45,3.32a2,2,0,0,1,2.83,0l1.4,1.43a1.91,1.91,0,0,1,.58,1.4,1.91,1.91,0,0,1-.58,1.4L9.25,21ZM18.45,9,17,7.55Zm-12,3A5.31,5.31,0,0,0,4.9,8.1,5.31,5.31,0,0,0,1,6.5,5.31,5.31,0,0,0,4.9,4.9,5.31,5.31,0,0,0,6.5,1,5.31,5.31,0,0,0,8.1,4.9,5.31,5.31,0,0,0,12,6.5,5.46,5.46,0,0,0,6.5,12Z\"/>\n",
              "  </svg>\n",
              "    </button>\n",
              "    <script>\n",
              "      (() => {\n",
              "      const buttonEl =\n",
              "        document.querySelector('#id_90884c51-a85f-4f1e-9cdf-64285ec698c6 button.colab-df-generate');\n",
              "      buttonEl.style.display =\n",
              "        google.colab.kernel.accessAllowed ? 'block' : 'none';\n",
              "\n",
              "      buttonEl.onclick = () => {\n",
              "        google.colab.notebook.generateWithVariable('survey_raw_df');\n",
              "      }\n",
              "      })();\n",
              "    </script>\n",
              "  </div>\n",
              "\n",
              "    </div>\n",
              "  </div>\n"
            ]
          },
          "metadata": {},
          "execution_count": 3
        }
      ]
    },
    {
      "cell_type": "code",
      "source": [
        "survey_raw_df.columns"
      ],
      "metadata": {
        "colab": {
          "base_uri": "https://localhost:8080/"
        },
        "id": "MqpsUA0ZPSK9",
        "outputId": "351e2adb-5beb-491a-a400-8c148f68baf0"
      },
      "execution_count": 4,
      "outputs": [
        {
          "output_type": "execute_result",
          "data": {
            "text/plain": [
              "Index(['Respondent', 'MainBranch', 'Hobbyist', 'Age', 'Age1stCode', 'CompFreq',\n",
              "       'CompTotal', 'ConvertedComp', 'Country', 'CurrencyDesc',\n",
              "       'CurrencySymbol', 'DatabaseDesireNextYear', 'DatabaseWorkedWith',\n",
              "       'DevType', 'EdLevel', 'Employment', 'Ethnicity', 'Gender', 'JobFactors',\n",
              "       'JobSat', 'JobSeek', 'LanguageDesireNextYear', 'LanguageWorkedWith',\n",
              "       'MiscTechDesireNextYear', 'MiscTechWorkedWith',\n",
              "       'NEWCollabToolsDesireNextYear', 'NEWCollabToolsWorkedWith', 'NEWDevOps',\n",
              "       'NEWDevOpsImpt', 'NEWEdImpt', 'NEWJobHunt', 'NEWJobHuntResearch',\n",
              "       'NEWLearn', 'NEWOffTopic', 'NEWOnboardGood', 'NEWOtherComms',\n",
              "       'NEWOvertime', 'NEWPurchaseResearch', 'NEWPurpleLink', 'NEWSOSites',\n",
              "       'NEWStuck', 'OpSys', 'OrgSize', 'PlatformDesireNextYear',\n",
              "       'PlatformWorkedWith', 'PurchaseWhat', 'Sexuality', 'SOAccount',\n",
              "       'SOComm', 'SOPartFreq', 'SOVisitFreq', 'SurveyEase', 'SurveyLength',\n",
              "       'Trans', 'UndergradMajor', 'WebframeDesireNextYear',\n",
              "       'WebframeWorkedWith', 'WelcomeChange', 'WorkWeekHrs', 'YearsCode',\n",
              "       'YearsCodePro'],\n",
              "      dtype='object')"
            ]
          },
          "metadata": {},
          "execution_count": 4
        }
      ]
    },
    {
      "cell_type": "code",
      "source": [
        "schema_fname = '/content/survey_results_schema.csv'\n",
        "schema_raw = pd.read_csv(schema_fname, index_col='Column').QuestionText"
      ],
      "metadata": {
        "id": "R0t77jHATsFr"
      },
      "execution_count": 5,
      "outputs": []
    },
    {
      "cell_type": "code",
      "source": [
        "schema_raw"
      ],
      "metadata": {
        "colab": {
          "base_uri": "https://localhost:8080/"
        },
        "id": "jUWTOQM91vWw",
        "outputId": "0bdca3b5-57d7-4db2-d779-9c2bc9ae9508"
      },
      "execution_count": 6,
      "outputs": [
        {
          "output_type": "execute_result",
          "data": {
            "text/plain": [
              "Column\n",
              "Respondent            Randomized respondent ID number (not in order ...\n",
              "MainBranch            Which of the following options best describes ...\n",
              "Hobbyist                                        Do you code as a hobby?\n",
              "Age                   What is your age (in years)? If you prefer not...\n",
              "Age1stCode            At what age did you write your first line of c...\n",
              "                                            ...                        \n",
              "WebframeWorkedWith    Which web frameworks have you done extensive d...\n",
              "WelcomeChange         Compared to last year, how welcome do you feel...\n",
              "WorkWeekHrs           On average, how many hours per week do you wor...\n",
              "YearsCode             Including any education, how many years have y...\n",
              "YearsCodePro          NOT including education, how many years have y...\n",
              "Name: QuestionText, Length: 61, dtype: object"
            ]
          },
          "metadata": {},
          "execution_count": 6
        }
      ]
    },
    {
      "cell_type": "markdown",
      "source": [
        "We can now use schema_raw to retrieve the full question text for any column in `survey_raw_df`."
      ],
      "metadata": {
        "id": "UKA7H0lJ17Wt"
      }
    },
    {
      "cell_type": "code",
      "source": [
        "schema_raw['YearsCode']"
      ],
      "metadata": {
        "colab": {
          "base_uri": "https://localhost:8080/",
          "height": 35
        },
        "id": "9Hof6uSq1wzf",
        "outputId": "86631034-6c5a-4b8d-a11d-a9192d993cba"
      },
      "execution_count": 7,
      "outputs": [
        {
          "output_type": "execute_result",
          "data": {
            "text/plain": [
              "'Including any education, how many years have you been coding in total?'"
            ],
            "application/vnd.google.colaboratory.intrinsic+json": {
              "type": "string"
            }
          },
          "metadata": {},
          "execution_count": 7
        }
      ]
    },
    {
      "cell_type": "markdown",
      "source": [
        "#Data Processing and Cleaning\n",
        "It is important to specify the specific analysis we will be working on. This is because during data processing we will processing and transforming the raw data according to our suitable analysis.\n",
        "\n",
        "Analysis include:\n",
        "* Demographics of the survey respondents and the global programming community\n",
        "* Distribution of programming skills, experience, and preferences\n",
        "* Employment-related information, preferences, and opinions"
      ],
      "metadata": {
        "id": "Zv5d83PS2PyJ"
      }
    },
    {
      "cell_type": "code",
      "source": [
        "selected_columns = [\n",
        "    # Demographics\n",
        "    'Country',\n",
        "    'Age',\n",
        "    'Gender',\n",
        "    'EdLevel',\n",
        "    'UndergradMajor',\n",
        "    # Programming experience\n",
        "    'Hobbyist',\n",
        "    'Age1stCode',\n",
        "    'YearsCode',\n",
        "    'YearsCodePro',\n",
        "    'LanguageWorkedWith',\n",
        "    'LanguageDesireNextYear',\n",
        "    'NEWLearn',\n",
        "    'NEWStuck',\n",
        "    # Employment\n",
        "    'Employment',\n",
        "    'DevType',\n",
        "    'WorkWeekHrs',\n",
        "    'JobSat',\n",
        "    'JobFactors',\n",
        "    'NEWOvertime',\n",
        "    'NEWEdImpt']"
      ],
      "metadata": {
        "id": "UdFxTgpf2DEw"
      },
      "execution_count": 8,
      "outputs": []
    },
    {
      "cell_type": "code",
      "source": [
        "len(selected_columns)"
      ],
      "metadata": {
        "colab": {
          "base_uri": "https://localhost:8080/"
        },
        "id": "585yPpO34aK5",
        "outputId": "502339ee-2ae3-4391-ded7-edf35feccf68"
      },
      "execution_count": 9,
      "outputs": [
        {
          "output_type": "execute_result",
          "data": {
            "text/plain": [
              "20"
            ]
          },
          "metadata": {},
          "execution_count": 9
        }
      ]
    },
    {
      "cell_type": "markdown",
      "source": [
        "Copying the data from this selected columns into a new data frame"
      ],
      "metadata": {
        "id": "e9O8UVCZ5BJL"
      }
    },
    {
      "cell_type": "code",
      "source": [
        "survey_df = survey_raw_df[selected_columns].copy()\n",
        "schema = schema_raw[selected_columns]"
      ],
      "metadata": {
        "id": "eXtB5fNl4clA"
      },
      "execution_count": 10,
      "outputs": []
    },
    {
      "cell_type": "markdown",
      "source": [
        "Basic information about the data frame"
      ],
      "metadata": {
        "id": "dHx8KguY7lyL"
      }
    },
    {
      "cell_type": "code",
      "source": [
        "survey_df.shape"
      ],
      "metadata": {
        "colab": {
          "base_uri": "https://localhost:8080/"
        },
        "id": "zhd4TwRS50aq",
        "outputId": "cb7a245d-fe4e-4aae-8fb8-159a59ad73a4"
      },
      "execution_count": 11,
      "outputs": [
        {
          "output_type": "execute_result",
          "data": {
            "text/plain": [
              "(64461, 20)"
            ]
          },
          "metadata": {},
          "execution_count": 11
        }
      ]
    },
    {
      "cell_type": "code",
      "source": [
        "survey_df.info()"
      ],
      "metadata": {
        "colab": {
          "base_uri": "https://localhost:8080/"
        },
        "id": "Qn9D9Pq759Zu",
        "outputId": "7a8f0493-f1a1-49f1-a8b5-c2258518eb95"
      },
      "execution_count": 12,
      "outputs": [
        {
          "output_type": "stream",
          "name": "stdout",
          "text": [
            "<class 'pandas.core.frame.DataFrame'>\n",
            "RangeIndex: 64461 entries, 0 to 64460\n",
            "Data columns (total 20 columns):\n",
            " #   Column                  Non-Null Count  Dtype  \n",
            "---  ------                  --------------  -----  \n",
            " 0   Country                 64072 non-null  object \n",
            " 1   Age                     45446 non-null  float64\n",
            " 2   Gender                  50557 non-null  object \n",
            " 3   EdLevel                 57431 non-null  object \n",
            " 4   UndergradMajor          50995 non-null  object \n",
            " 5   Hobbyist                64416 non-null  object \n",
            " 6   Age1stCode              57900 non-null  object \n",
            " 7   YearsCode               57684 non-null  object \n",
            " 8   YearsCodePro            46349 non-null  object \n",
            " 9   LanguageWorkedWith      57378 non-null  object \n",
            " 10  LanguageDesireNextYear  54113 non-null  object \n",
            " 11  NEWLearn                56156 non-null  object \n",
            " 12  NEWStuck                54983 non-null  object \n",
            " 13  Employment              63854 non-null  object \n",
            " 14  DevType                 49370 non-null  object \n",
            " 15  WorkWeekHrs             41151 non-null  float64\n",
            " 16  JobSat                  45194 non-null  object \n",
            " 17  JobFactors              49349 non-null  object \n",
            " 18  NEWOvertime             43231 non-null  object \n",
            " 19  NEWEdImpt               48465 non-null  object \n",
            "dtypes: float64(2), object(18)\n",
            "memory usage: 9.8+ MB\n"
          ]
        }
      ]
    },
    {
      "cell_type": "markdown",
      "source": [
        "The columns `Age1stCode`, `YearsCode`, and `YearsCodePro` contain options such as 'less than 5 years' and 'more than 50 years', which are non-numeric values. To overcome this issue, we have converted them to **NaN** (Not a Number)."
      ],
      "metadata": {
        "id": "n0_WdegE8pTO"
      }
    },
    {
      "cell_type": "code",
      "source": [
        "survey_df['Age1stCode'] = pd.to_numeric(survey_df.Age1stCode, errors='coerce')\n",
        "survey_df['YearsCode'] = pd.to_numeric(survey_df.YearsCode, errors='coerce')\n",
        "survey_df['YearsCodePro'] = pd.to_numeric(survey_df.YearsCodePro, errors='coerce')"
      ],
      "metadata": {
        "id": "Ehcamnwg7WYe"
      },
      "execution_count": 13,
      "outputs": []
    },
    {
      "cell_type": "markdown",
      "source": [
        "Basic statistics"
      ],
      "metadata": {
        "id": "5vVqQ8aj9uXU"
      }
    },
    {
      "cell_type": "code",
      "source": [
        "survey_df.describe()"
      ],
      "metadata": {
        "colab": {
          "base_uri": "https://localhost:8080/",
          "height": 300
        },
        "id": "H6EQoCPC8oQ7",
        "outputId": "a3efb67f-eb98-47ee-9adb-4c43b7adc0ac"
      },
      "execution_count": 14,
      "outputs": [
        {
          "output_type": "execute_result",
          "data": {
            "text/plain": [
              "                Age    Age1stCode     YearsCode  YearsCodePro   WorkWeekHrs\n",
              "count  45446.000000  57473.000000  56784.000000  44133.000000  41151.000000\n",
              "mean      30.834111     15.476572     12.782051      8.869667     40.782174\n",
              "std        9.585392      5.114081      9.490657      7.759961     17.816383\n",
              "min        1.000000      5.000000      1.000000      1.000000      1.000000\n",
              "25%       24.000000     12.000000      6.000000      3.000000     40.000000\n",
              "50%       29.000000     15.000000     10.000000      6.000000     40.000000\n",
              "75%       35.000000     18.000000     17.000000     12.000000     44.000000\n",
              "max      279.000000     85.000000     50.000000     50.000000    475.000000"
            ],
            "text/html": [
              "\n",
              "  <div id=\"df-a59184f5-ec9b-4997-b359-985dec152287\" class=\"colab-df-container\">\n",
              "    <div>\n",
              "<style scoped>\n",
              "    .dataframe tbody tr th:only-of-type {\n",
              "        vertical-align: middle;\n",
              "    }\n",
              "\n",
              "    .dataframe tbody tr th {\n",
              "        vertical-align: top;\n",
              "    }\n",
              "\n",
              "    .dataframe thead th {\n",
              "        text-align: right;\n",
              "    }\n",
              "</style>\n",
              "<table border=\"1\" class=\"dataframe\">\n",
              "  <thead>\n",
              "    <tr style=\"text-align: right;\">\n",
              "      <th></th>\n",
              "      <th>Age</th>\n",
              "      <th>Age1stCode</th>\n",
              "      <th>YearsCode</th>\n",
              "      <th>YearsCodePro</th>\n",
              "      <th>WorkWeekHrs</th>\n",
              "    </tr>\n",
              "  </thead>\n",
              "  <tbody>\n",
              "    <tr>\n",
              "      <th>count</th>\n",
              "      <td>45446.000000</td>\n",
              "      <td>57473.000000</td>\n",
              "      <td>56784.000000</td>\n",
              "      <td>44133.000000</td>\n",
              "      <td>41151.000000</td>\n",
              "    </tr>\n",
              "    <tr>\n",
              "      <th>mean</th>\n",
              "      <td>30.834111</td>\n",
              "      <td>15.476572</td>\n",
              "      <td>12.782051</td>\n",
              "      <td>8.869667</td>\n",
              "      <td>40.782174</td>\n",
              "    </tr>\n",
              "    <tr>\n",
              "      <th>std</th>\n",
              "      <td>9.585392</td>\n",
              "      <td>5.114081</td>\n",
              "      <td>9.490657</td>\n",
              "      <td>7.759961</td>\n",
              "      <td>17.816383</td>\n",
              "    </tr>\n",
              "    <tr>\n",
              "      <th>min</th>\n",
              "      <td>1.000000</td>\n",
              "      <td>5.000000</td>\n",
              "      <td>1.000000</td>\n",
              "      <td>1.000000</td>\n",
              "      <td>1.000000</td>\n",
              "    </tr>\n",
              "    <tr>\n",
              "      <th>25%</th>\n",
              "      <td>24.000000</td>\n",
              "      <td>12.000000</td>\n",
              "      <td>6.000000</td>\n",
              "      <td>3.000000</td>\n",
              "      <td>40.000000</td>\n",
              "    </tr>\n",
              "    <tr>\n",
              "      <th>50%</th>\n",
              "      <td>29.000000</td>\n",
              "      <td>15.000000</td>\n",
              "      <td>10.000000</td>\n",
              "      <td>6.000000</td>\n",
              "      <td>40.000000</td>\n",
              "    </tr>\n",
              "    <tr>\n",
              "      <th>75%</th>\n",
              "      <td>35.000000</td>\n",
              "      <td>18.000000</td>\n",
              "      <td>17.000000</td>\n",
              "      <td>12.000000</td>\n",
              "      <td>44.000000</td>\n",
              "    </tr>\n",
              "    <tr>\n",
              "      <th>max</th>\n",
              "      <td>279.000000</td>\n",
              "      <td>85.000000</td>\n",
              "      <td>50.000000</td>\n",
              "      <td>50.000000</td>\n",
              "      <td>475.000000</td>\n",
              "    </tr>\n",
              "  </tbody>\n",
              "</table>\n",
              "</div>\n",
              "    <div class=\"colab-df-buttons\">\n",
              "\n",
              "  <div class=\"colab-df-container\">\n",
              "    <button class=\"colab-df-convert\" onclick=\"convertToInteractive('df-a59184f5-ec9b-4997-b359-985dec152287')\"\n",
              "            title=\"Convert this dataframe to an interactive table.\"\n",
              "            style=\"display:none;\">\n",
              "\n",
              "  <svg xmlns=\"http://www.w3.org/2000/svg\" height=\"24px\" viewBox=\"0 -960 960 960\">\n",
              "    <path d=\"M120-120v-720h720v720H120Zm60-500h600v-160H180v160Zm220 220h160v-160H400v160Zm0 220h160v-160H400v160ZM180-400h160v-160H180v160Zm440 0h160v-160H620v160ZM180-180h160v-160H180v160Zm440 0h160v-160H620v160Z\"/>\n",
              "  </svg>\n",
              "    </button>\n",
              "\n",
              "  <style>\n",
              "    .colab-df-container {\n",
              "      display:flex;\n",
              "      gap: 12px;\n",
              "    }\n",
              "\n",
              "    .colab-df-convert {\n",
              "      background-color: #E8F0FE;\n",
              "      border: none;\n",
              "      border-radius: 50%;\n",
              "      cursor: pointer;\n",
              "      display: none;\n",
              "      fill: #1967D2;\n",
              "      height: 32px;\n",
              "      padding: 0 0 0 0;\n",
              "      width: 32px;\n",
              "    }\n",
              "\n",
              "    .colab-df-convert:hover {\n",
              "      background-color: #E2EBFA;\n",
              "      box-shadow: 0px 1px 2px rgba(60, 64, 67, 0.3), 0px 1px 3px 1px rgba(60, 64, 67, 0.15);\n",
              "      fill: #174EA6;\n",
              "    }\n",
              "\n",
              "    .colab-df-buttons div {\n",
              "      margin-bottom: 4px;\n",
              "    }\n",
              "\n",
              "    [theme=dark] .colab-df-convert {\n",
              "      background-color: #3B4455;\n",
              "      fill: #D2E3FC;\n",
              "    }\n",
              "\n",
              "    [theme=dark] .colab-df-convert:hover {\n",
              "      background-color: #434B5C;\n",
              "      box-shadow: 0px 1px 3px 1px rgba(0, 0, 0, 0.15);\n",
              "      filter: drop-shadow(0px 1px 2px rgba(0, 0, 0, 0.3));\n",
              "      fill: #FFFFFF;\n",
              "    }\n",
              "  </style>\n",
              "\n",
              "    <script>\n",
              "      const buttonEl =\n",
              "        document.querySelector('#df-a59184f5-ec9b-4997-b359-985dec152287 button.colab-df-convert');\n",
              "      buttonEl.style.display =\n",
              "        google.colab.kernel.accessAllowed ? 'block' : 'none';\n",
              "\n",
              "      async function convertToInteractive(key) {\n",
              "        const element = document.querySelector('#df-a59184f5-ec9b-4997-b359-985dec152287');\n",
              "        const dataTable =\n",
              "          await google.colab.kernel.invokeFunction('convertToInteractive',\n",
              "                                                    [key], {});\n",
              "        if (!dataTable) return;\n",
              "\n",
              "        const docLinkHtml = 'Like what you see? Visit the ' +\n",
              "          '<a target=\"_blank\" href=https://colab.research.google.com/notebooks/data_table.ipynb>data table notebook</a>'\n",
              "          + ' to learn more about interactive tables.';\n",
              "        element.innerHTML = '';\n",
              "        dataTable['output_type'] = 'display_data';\n",
              "        await google.colab.output.renderOutput(dataTable, element);\n",
              "        const docLink = document.createElement('div');\n",
              "        docLink.innerHTML = docLinkHtml;\n",
              "        element.appendChild(docLink);\n",
              "      }\n",
              "    </script>\n",
              "  </div>\n",
              "\n",
              "\n",
              "<div id=\"df-1c2f8717-cfeb-4e9e-a429-feef77078443\">\n",
              "  <button class=\"colab-df-quickchart\" onclick=\"quickchart('df-1c2f8717-cfeb-4e9e-a429-feef77078443')\"\n",
              "            title=\"Suggest charts\"\n",
              "            style=\"display:none;\">\n",
              "\n",
              "<svg xmlns=\"http://www.w3.org/2000/svg\" height=\"24px\"viewBox=\"0 0 24 24\"\n",
              "     width=\"24px\">\n",
              "    <g>\n",
              "        <path d=\"M19 3H5c-1.1 0-2 .9-2 2v14c0 1.1.9 2 2 2h14c1.1 0 2-.9 2-2V5c0-1.1-.9-2-2-2zM9 17H7v-7h2v7zm4 0h-2V7h2v10zm4 0h-2v-4h2v4z\"/>\n",
              "    </g>\n",
              "</svg>\n",
              "  </button>\n",
              "\n",
              "<style>\n",
              "  .colab-df-quickchart {\n",
              "      --bg-color: #E8F0FE;\n",
              "      --fill-color: #1967D2;\n",
              "      --hover-bg-color: #E2EBFA;\n",
              "      --hover-fill-color: #174EA6;\n",
              "      --disabled-fill-color: #AAA;\n",
              "      --disabled-bg-color: #DDD;\n",
              "  }\n",
              "\n",
              "  [theme=dark] .colab-df-quickchart {\n",
              "      --bg-color: #3B4455;\n",
              "      --fill-color: #D2E3FC;\n",
              "      --hover-bg-color: #434B5C;\n",
              "      --hover-fill-color: #FFFFFF;\n",
              "      --disabled-bg-color: #3B4455;\n",
              "      --disabled-fill-color: #666;\n",
              "  }\n",
              "\n",
              "  .colab-df-quickchart {\n",
              "    background-color: var(--bg-color);\n",
              "    border: none;\n",
              "    border-radius: 50%;\n",
              "    cursor: pointer;\n",
              "    display: none;\n",
              "    fill: var(--fill-color);\n",
              "    height: 32px;\n",
              "    padding: 0;\n",
              "    width: 32px;\n",
              "  }\n",
              "\n",
              "  .colab-df-quickchart:hover {\n",
              "    background-color: var(--hover-bg-color);\n",
              "    box-shadow: 0 1px 2px rgba(60, 64, 67, 0.3), 0 1px 3px 1px rgba(60, 64, 67, 0.15);\n",
              "    fill: var(--button-hover-fill-color);\n",
              "  }\n",
              "\n",
              "  .colab-df-quickchart-complete:disabled,\n",
              "  .colab-df-quickchart-complete:disabled:hover {\n",
              "    background-color: var(--disabled-bg-color);\n",
              "    fill: var(--disabled-fill-color);\n",
              "    box-shadow: none;\n",
              "  }\n",
              "\n",
              "  .colab-df-spinner {\n",
              "    border: 2px solid var(--fill-color);\n",
              "    border-color: transparent;\n",
              "    border-bottom-color: var(--fill-color);\n",
              "    animation:\n",
              "      spin 1s steps(1) infinite;\n",
              "  }\n",
              "\n",
              "  @keyframes spin {\n",
              "    0% {\n",
              "      border-color: transparent;\n",
              "      border-bottom-color: var(--fill-color);\n",
              "      border-left-color: var(--fill-color);\n",
              "    }\n",
              "    20% {\n",
              "      border-color: transparent;\n",
              "      border-left-color: var(--fill-color);\n",
              "      border-top-color: var(--fill-color);\n",
              "    }\n",
              "    30% {\n",
              "      border-color: transparent;\n",
              "      border-left-color: var(--fill-color);\n",
              "      border-top-color: var(--fill-color);\n",
              "      border-right-color: var(--fill-color);\n",
              "    }\n",
              "    40% {\n",
              "      border-color: transparent;\n",
              "      border-right-color: var(--fill-color);\n",
              "      border-top-color: var(--fill-color);\n",
              "    }\n",
              "    60% {\n",
              "      border-color: transparent;\n",
              "      border-right-color: var(--fill-color);\n",
              "    }\n",
              "    80% {\n",
              "      border-color: transparent;\n",
              "      border-right-color: var(--fill-color);\n",
              "      border-bottom-color: var(--fill-color);\n",
              "    }\n",
              "    90% {\n",
              "      border-color: transparent;\n",
              "      border-bottom-color: var(--fill-color);\n",
              "    }\n",
              "  }\n",
              "</style>\n",
              "\n",
              "  <script>\n",
              "    async function quickchart(key) {\n",
              "      const quickchartButtonEl =\n",
              "        document.querySelector('#' + key + ' button');\n",
              "      quickchartButtonEl.disabled = true;  // To prevent multiple clicks.\n",
              "      quickchartButtonEl.classList.add('colab-df-spinner');\n",
              "      try {\n",
              "        const charts = await google.colab.kernel.invokeFunction(\n",
              "            'suggestCharts', [key], {});\n",
              "      } catch (error) {\n",
              "        console.error('Error during call to suggestCharts:', error);\n",
              "      }\n",
              "      quickchartButtonEl.classList.remove('colab-df-spinner');\n",
              "      quickchartButtonEl.classList.add('colab-df-quickchart-complete');\n",
              "    }\n",
              "    (() => {\n",
              "      let quickchartButtonEl =\n",
              "        document.querySelector('#df-1c2f8717-cfeb-4e9e-a429-feef77078443 button');\n",
              "      quickchartButtonEl.style.display =\n",
              "        google.colab.kernel.accessAllowed ? 'block' : 'none';\n",
              "    })();\n",
              "  </script>\n",
              "</div>\n",
              "\n",
              "    </div>\n",
              "  </div>\n"
            ]
          },
          "metadata": {},
          "execution_count": 14
        }
      ]
    },
    {
      "cell_type": "markdown",
      "source": [
        "Here we can see that the minimum age is 1 and maximum age 279 which is unlikely or a mistake. So, to overcome this issue we will be removing the rows which are lower than 10 and higher than 100."
      ],
      "metadata": {
        "id": "qJETiZWoE8Vy"
      }
    },
    {
      "cell_type": "code",
      "source": [
        "survey_df.drop(survey_df[survey_df.Age < 10].index, inplace=True)\n",
        "survey_df.drop(survey_df[survey_df.Age > 100].index, inplace=True)"
      ],
      "metadata": {
        "id": "C7NkUJiJ9s-d"
      },
      "execution_count": 15,
      "outputs": []
    },
    {
      "cell_type": "markdown",
      "source": [
        "Same holds true for `WorkWeekHrs`. Lets ignore the values higher than 140 hours. (~20 hrs per day)"
      ],
      "metadata": {
        "id": "O9GDcgkOMx5p"
      }
    },
    {
      "cell_type": "code",
      "source": [
        "survey_df.drop(survey_df[survey_df.WorkWeekHrs > 140].index, inplace=True)"
      ],
      "metadata": {
        "id": "vBC3jNy2Ga_c"
      },
      "execution_count": 16,
      "outputs": []
    },
    {
      "cell_type": "markdown",
      "source": [
        "The Gender column contains multiple option. So to simplify our analysis we will be removing few options"
      ],
      "metadata": {
        "id": "4xyIVyQ8N5C3"
      }
    },
    {
      "cell_type": "code",
      "source": [
        "survey_df['Gender'].value_counts()"
      ],
      "metadata": {
        "colab": {
          "base_uri": "https://localhost:8080/"
        },
        "id": "KqqOfCLKNXDB",
        "outputId": "506182dd-41b0-4ced-a76b-0b12edfbf5ff"
      },
      "execution_count": 17,
      "outputs": [
        {
          "output_type": "execute_result",
          "data": {
            "text/plain": [
              "Man                                                            45895\n",
              "Woman                                                           3835\n",
              "Non-binary, genderqueer, or gender non-conforming                385\n",
              "Man;Non-binary, genderqueer, or gender non-conforming            121\n",
              "Woman;Non-binary, genderqueer, or gender non-conforming           92\n",
              "Woman;Man                                                         73\n",
              "Woman;Man;Non-binary, genderqueer, or gender non-conforming       25\n",
              "Name: Gender, dtype: int64"
            ]
          },
          "metadata": {},
          "execution_count": 17
        }
      ]
    },
    {
      "cell_type": "code",
      "source": [
        "accepted_genders = ['Man', 'Woman', 'Non-binary, genderqueer, or gender non-conforming']\n",
        "survey_df = survey_df[survey_df['Gender'].isin(accepted_genders)]"
      ],
      "metadata": {
        "id": "OZSyo98tOZgy"
      },
      "execution_count": 18,
      "outputs": []
    },
    {
      "cell_type": "code",
      "source": [
        "survey_df.sample(10)"
      ],
      "metadata": {
        "colab": {
          "base_uri": "https://localhost:8080/",
          "height": 1000
        },
        "id": "547Eon9eQQdY",
        "outputId": "0522e7d3-2bc7-49ba-f448-5e72b41f5042"
      },
      "execution_count": 19,
      "outputs": [
        {
          "output_type": "execute_result",
          "data": {
            "text/plain": [
              "                    Country   Age Gender  \\\n",
              "23327                 India  30.0    Man   \n",
              "32356                Israel  40.0    Man   \n",
              "14008               Germany  27.0    Man   \n",
              "38560                Poland  27.0    Man   \n",
              "42105        United Kingdom  20.0    Man   \n",
              "34571                Brazil  47.0    Man   \n",
              "10537   Republic of Moldova  24.0    Man   \n",
              "20671                 India  36.0    Man   \n",
              "10107                 Spain  25.0    Man   \n",
              "57235  United Arab Emirates  35.0    Man   \n",
              "\n",
              "                                               EdLevel  \\\n",
              "23327     Bachelor’s degree (B.A., B.S., B.Eng., etc.)   \n",
              "32356     Bachelor’s degree (B.A., B.S., B.Eng., etc.)   \n",
              "14008     Bachelor’s degree (B.A., B.S., B.Eng., etc.)   \n",
              "38560     Bachelor’s degree (B.A., B.S., B.Eng., etc.)   \n",
              "42105     Bachelor’s degree (B.A., B.S., B.Eng., etc.)   \n",
              "34571  Master’s degree (M.A., M.S., M.Eng., MBA, etc.)   \n",
              "10537     Bachelor’s degree (B.A., B.S., B.Eng., etc.)   \n",
              "20671     Bachelor’s degree (B.A., B.S., B.Eng., etc.)   \n",
              "10107       Other doctoral degree (Ph.D., Ed.D., etc.)   \n",
              "57235     Bachelor’s degree (B.A., B.S., B.Eng., etc.)   \n",
              "\n",
              "                                          UndergradMajor Hobbyist  Age1stCode  \\\n",
              "23327  Computer science, computer engineering, or sof...      Yes        17.0   \n",
              "32356  Computer science, computer engineering, or sof...       No        15.0   \n",
              "14008  Computer science, computer engineering, or sof...      Yes        18.0   \n",
              "38560  Computer science, computer engineering, or sof...      Yes        19.0   \n",
              "42105  Information systems, information technology, o...      Yes        16.0   \n",
              "34571  Computer science, computer engineering, or sof...       No        14.0   \n",
              "10537  Computer science, computer engineering, or sof...       No        14.0   \n",
              "20671  Another engineering discipline (such as civil,...      Yes        17.0   \n",
              "10107  Computer science, computer engineering, or sof...      Yes        10.0   \n",
              "57235  Computer science, computer engineering, or sof...       No        18.0   \n",
              "\n",
              "       YearsCode  YearsCodePro  \\\n",
              "23327       13.0           9.0   \n",
              "32356       25.0          15.0   \n",
              "14008        9.0           4.0   \n",
              "38560        8.0           5.0   \n",
              "42105        5.0           NaN   \n",
              "34571       30.0          25.0   \n",
              "10537        4.0           NaN   \n",
              "20671       15.0          13.0   \n",
              "10107        8.0           4.0   \n",
              "57235       18.0          16.0   \n",
              "\n",
              "                                      LanguageWorkedWith  \\\n",
              "23327                       HTML/CSS;Java;JavaScript;SQL   \n",
              "32356  Bash/Shell/PowerShell;C;C++;Java;Objective-C;S...   \n",
              "14008                                  HTML/CSS;Java;SQL   \n",
              "38560  Bash/Shell/PowerShell;HTML/CSS;Java;JavaScript...   \n",
              "42105                          C;HTML/CSS;Java;SQL;Swift   \n",
              "34571                                           Java;SQL   \n",
              "10537  Bash/Shell/PowerShell;C;C#;C++;HTML/CSS;JavaSc...   \n",
              "20671    Bash/Shell/PowerShell;Go;Java;JavaScript;Python   \n",
              "10107            HTML/CSS;Java;JavaScript;PHP;Python;SQL   \n",
              "57235                               C#;HTML/CSS;Java;SQL   \n",
              "\n",
              "                                  LanguageDesireNextYear  \\\n",
              "23327                                  HTML/CSS;Java;SQL   \n",
              "32356  Bash/Shell/PowerShell;C;C++;Go;Java;Kotlin;Obj...   \n",
              "14008                       HTML/CSS;Java;JavaScript;SQL   \n",
              "38560                              JavaScript;Python;SQL   \n",
              "42105  C;C#;C++;HTML/CSS;Java;JavaScript;PHP;Python;S...   \n",
              "34571                                      Java;Rust;SQL   \n",
              "10537                                                 C#   \n",
              "20671         Bash/Shell/PowerShell;Go;JavaScript;Python   \n",
              "10107                                                NaN   \n",
              "57235                 C#;Dart;Go;Java;Python;R;SQL;Swift   \n",
              "\n",
              "                   NEWLearn  \\\n",
              "23327      Every few months   \n",
              "32356      Every few months   \n",
              "14008           Once a year   \n",
              "38560           Once a year   \n",
              "42105           Once a year   \n",
              "34571  Once every few years   \n",
              "10537      Every few months   \n",
              "20671  Once every few years   \n",
              "10107           Once a year   \n",
              "57235           Once a year   \n",
              "\n",
              "                                                NEWStuck          Employment  \\\n",
              "23327  Visit Stack Overflow;Watch help / tutorial videos  Employed full-time   \n",
              "32356  Visit Stack Overflow;Watch help / tutorial vid...  Employed full-time   \n",
              "14008  Visit Stack Overflow;Go for a walk or other ph...  Employed full-time   \n",
              "38560  Visit Stack Overflow;Go for a walk or other ph...  Employed full-time   \n",
              "42105  Play games;Call a coworker or friend;Visit Sta...  Employed full-time   \n",
              "34571  Visit Stack Overflow;Go for a walk or other ph...  Employed full-time   \n",
              "10537  Meditate;Call a coworker or friend;Visit Stack...  Employed full-time   \n",
              "20671  Visit Stack Overflow;Watch help / tutorial vid...  Employed full-time   \n",
              "10107  Meditate;Visit Stack Overflow;Go for a walk or...  Employed full-time   \n",
              "57235  Visit Stack Overflow;Go for a walk or other ph...  Employed full-time   \n",
              "\n",
              "                                                 DevType  WorkWeekHrs  \\\n",
              "23327                              Developer, full-stack         46.0   \n",
              "32356  Developer, back-end;Developer, desktop or ente...         45.0   \n",
              "14008                                Developer, back-end         40.0   \n",
              "38560          Developer, back-end;Developer, full-stack         45.0   \n",
              "42105                           Data or business analyst          NaN   \n",
              "34571                              Developer, full-stack         40.0   \n",
              "10537                              Developer, full-stack         40.0   \n",
              "20671  Developer, back-end;Developer, full-stack;DevO...         40.0   \n",
              "10107  Academic researcher;Developer, back-end;Develo...         25.0   \n",
              "57235  Developer, back-end;Developer, desktop or ente...         40.0   \n",
              "\n",
              "                                   JobSat  \\\n",
              "23327                  Slightly satisfied   \n",
              "32356                      Very satisfied   \n",
              "14008                  Slightly satisfied   \n",
              "38560                  Slightly satisfied   \n",
              "42105                                 NaN   \n",
              "34571                      Very satisfied   \n",
              "10537                  Slightly satisfied   \n",
              "20671                   Very dissatisfied   \n",
              "10107  Neither satisfied nor dissatisfied   \n",
              "57235                  Slightly satisfied   \n",
              "\n",
              "                                              JobFactors  \\\n",
              "23327  Flex time or a flexible schedule;Languages, fr...   \n",
              "32356  Office environment or company culture;Opportun...   \n",
              "14008  Flex time or a flexible schedule;Languages, fr...   \n",
              "38560  Flex time or a flexible schedule;Languages, fr...   \n",
              "42105  Flex time or a flexible schedule;Remote work o...   \n",
              "34571  Flex time or a flexible schedule;Remote work o...   \n",
              "10537  Flex time or a flexible schedule;Specific depa...   \n",
              "20671  Languages, frameworks, and other technologies ...   \n",
              "10107  Languages, frameworks, and other technologies ...   \n",
              "57235  Flex time or a flexible schedule;Financial per...   \n",
              "\n",
              "                                             NEWOvertime             NEWEdImpt  \n",
              "23327                   Often: 1-2 days per week or more        Very important  \n",
              "32356  Sometimes: 1-2 days per month but less than we...  Critically important  \n",
              "14008  Sometimes: 1-2 days per month but less than we...    Somewhat important  \n",
              "38560  Sometimes: 1-2 days per month but less than we...      Fairly important  \n",
              "42105                                                NaN                   NaN  \n",
              "34571  Occasionally: 1-2 days per quarter but less th...  Critically important  \n",
              "10537                   Often: 1-2 days per week or more    Somewhat important  \n",
              "20671  Sometimes: 1-2 days per month but less than we...        Very important  \n",
              "10107  Occasionally: 1-2 days per quarter but less th...      Fairly important  \n",
              "57235                   Often: 1-2 days per week or more    Somewhat important  "
            ],
            "text/html": [
              "\n",
              "  <div id=\"df-14133e4e-fd33-46bb-a612-f26936c56687\" class=\"colab-df-container\">\n",
              "    <div>\n",
              "<style scoped>\n",
              "    .dataframe tbody tr th:only-of-type {\n",
              "        vertical-align: middle;\n",
              "    }\n",
              "\n",
              "    .dataframe tbody tr th {\n",
              "        vertical-align: top;\n",
              "    }\n",
              "\n",
              "    .dataframe thead th {\n",
              "        text-align: right;\n",
              "    }\n",
              "</style>\n",
              "<table border=\"1\" class=\"dataframe\">\n",
              "  <thead>\n",
              "    <tr style=\"text-align: right;\">\n",
              "      <th></th>\n",
              "      <th>Country</th>\n",
              "      <th>Age</th>\n",
              "      <th>Gender</th>\n",
              "      <th>EdLevel</th>\n",
              "      <th>UndergradMajor</th>\n",
              "      <th>Hobbyist</th>\n",
              "      <th>Age1stCode</th>\n",
              "      <th>YearsCode</th>\n",
              "      <th>YearsCodePro</th>\n",
              "      <th>LanguageWorkedWith</th>\n",
              "      <th>LanguageDesireNextYear</th>\n",
              "      <th>NEWLearn</th>\n",
              "      <th>NEWStuck</th>\n",
              "      <th>Employment</th>\n",
              "      <th>DevType</th>\n",
              "      <th>WorkWeekHrs</th>\n",
              "      <th>JobSat</th>\n",
              "      <th>JobFactors</th>\n",
              "      <th>NEWOvertime</th>\n",
              "      <th>NEWEdImpt</th>\n",
              "    </tr>\n",
              "  </thead>\n",
              "  <tbody>\n",
              "    <tr>\n",
              "      <th>23327</th>\n",
              "      <td>India</td>\n",
              "      <td>30.0</td>\n",
              "      <td>Man</td>\n",
              "      <td>Bachelor’s degree (B.A., B.S., B.Eng., etc.)</td>\n",
              "      <td>Computer science, computer engineering, or sof...</td>\n",
              "      <td>Yes</td>\n",
              "      <td>17.0</td>\n",
              "      <td>13.0</td>\n",
              "      <td>9.0</td>\n",
              "      <td>HTML/CSS;Java;JavaScript;SQL</td>\n",
              "      <td>HTML/CSS;Java;SQL</td>\n",
              "      <td>Every few months</td>\n",
              "      <td>Visit Stack Overflow;Watch help / tutorial videos</td>\n",
              "      <td>Employed full-time</td>\n",
              "      <td>Developer, full-stack</td>\n",
              "      <td>46.0</td>\n",
              "      <td>Slightly satisfied</td>\n",
              "      <td>Flex time or a flexible schedule;Languages, fr...</td>\n",
              "      <td>Often: 1-2 days per week or more</td>\n",
              "      <td>Very important</td>\n",
              "    </tr>\n",
              "    <tr>\n",
              "      <th>32356</th>\n",
              "      <td>Israel</td>\n",
              "      <td>40.0</td>\n",
              "      <td>Man</td>\n",
              "      <td>Bachelor’s degree (B.A., B.S., B.Eng., etc.)</td>\n",
              "      <td>Computer science, computer engineering, or sof...</td>\n",
              "      <td>No</td>\n",
              "      <td>15.0</td>\n",
              "      <td>25.0</td>\n",
              "      <td>15.0</td>\n",
              "      <td>Bash/Shell/PowerShell;C;C++;Java;Objective-C;S...</td>\n",
              "      <td>Bash/Shell/PowerShell;C;C++;Go;Java;Kotlin;Obj...</td>\n",
              "      <td>Every few months</td>\n",
              "      <td>Visit Stack Overflow;Watch help / tutorial vid...</td>\n",
              "      <td>Employed full-time</td>\n",
              "      <td>Developer, back-end;Developer, desktop or ente...</td>\n",
              "      <td>45.0</td>\n",
              "      <td>Very satisfied</td>\n",
              "      <td>Office environment or company culture;Opportun...</td>\n",
              "      <td>Sometimes: 1-2 days per month but less than we...</td>\n",
              "      <td>Critically important</td>\n",
              "    </tr>\n",
              "    <tr>\n",
              "      <th>14008</th>\n",
              "      <td>Germany</td>\n",
              "      <td>27.0</td>\n",
              "      <td>Man</td>\n",
              "      <td>Bachelor’s degree (B.A., B.S., B.Eng., etc.)</td>\n",
              "      <td>Computer science, computer engineering, or sof...</td>\n",
              "      <td>Yes</td>\n",
              "      <td>18.0</td>\n",
              "      <td>9.0</td>\n",
              "      <td>4.0</td>\n",
              "      <td>HTML/CSS;Java;SQL</td>\n",
              "      <td>HTML/CSS;Java;JavaScript;SQL</td>\n",
              "      <td>Once a year</td>\n",
              "      <td>Visit Stack Overflow;Go for a walk or other ph...</td>\n",
              "      <td>Employed full-time</td>\n",
              "      <td>Developer, back-end</td>\n",
              "      <td>40.0</td>\n",
              "      <td>Slightly satisfied</td>\n",
              "      <td>Flex time or a flexible schedule;Languages, fr...</td>\n",
              "      <td>Sometimes: 1-2 days per month but less than we...</td>\n",
              "      <td>Somewhat important</td>\n",
              "    </tr>\n",
              "    <tr>\n",
              "      <th>38560</th>\n",
              "      <td>Poland</td>\n",
              "      <td>27.0</td>\n",
              "      <td>Man</td>\n",
              "      <td>Bachelor’s degree (B.A., B.S., B.Eng., etc.)</td>\n",
              "      <td>Computer science, computer engineering, or sof...</td>\n",
              "      <td>Yes</td>\n",
              "      <td>19.0</td>\n",
              "      <td>8.0</td>\n",
              "      <td>5.0</td>\n",
              "      <td>Bash/Shell/PowerShell;HTML/CSS;Java;JavaScript...</td>\n",
              "      <td>JavaScript;Python;SQL</td>\n",
              "      <td>Once a year</td>\n",
              "      <td>Visit Stack Overflow;Go for a walk or other ph...</td>\n",
              "      <td>Employed full-time</td>\n",
              "      <td>Developer, back-end;Developer, full-stack</td>\n",
              "      <td>45.0</td>\n",
              "      <td>Slightly satisfied</td>\n",
              "      <td>Flex time or a flexible schedule;Languages, fr...</td>\n",
              "      <td>Sometimes: 1-2 days per month but less than we...</td>\n",
              "      <td>Fairly important</td>\n",
              "    </tr>\n",
              "    <tr>\n",
              "      <th>42105</th>\n",
              "      <td>United Kingdom</td>\n",
              "      <td>20.0</td>\n",
              "      <td>Man</td>\n",
              "      <td>Bachelor’s degree (B.A., B.S., B.Eng., etc.)</td>\n",
              "      <td>Information systems, information technology, o...</td>\n",
              "      <td>Yes</td>\n",
              "      <td>16.0</td>\n",
              "      <td>5.0</td>\n",
              "      <td>NaN</td>\n",
              "      <td>C;HTML/CSS;Java;SQL;Swift</td>\n",
              "      <td>C;C#;C++;HTML/CSS;Java;JavaScript;PHP;Python;S...</td>\n",
              "      <td>Once a year</td>\n",
              "      <td>Play games;Call a coworker or friend;Visit Sta...</td>\n",
              "      <td>Employed full-time</td>\n",
              "      <td>Data or business analyst</td>\n",
              "      <td>NaN</td>\n",
              "      <td>NaN</td>\n",
              "      <td>Flex time or a flexible schedule;Remote work o...</td>\n",
              "      <td>NaN</td>\n",
              "      <td>NaN</td>\n",
              "    </tr>\n",
              "    <tr>\n",
              "      <th>34571</th>\n",
              "      <td>Brazil</td>\n",
              "      <td>47.0</td>\n",
              "      <td>Man</td>\n",
              "      <td>Master’s degree (M.A., M.S., M.Eng., MBA, etc.)</td>\n",
              "      <td>Computer science, computer engineering, or sof...</td>\n",
              "      <td>No</td>\n",
              "      <td>14.0</td>\n",
              "      <td>30.0</td>\n",
              "      <td>25.0</td>\n",
              "      <td>Java;SQL</td>\n",
              "      <td>Java;Rust;SQL</td>\n",
              "      <td>Once every few years</td>\n",
              "      <td>Visit Stack Overflow;Go for a walk or other ph...</td>\n",
              "      <td>Employed full-time</td>\n",
              "      <td>Developer, full-stack</td>\n",
              "      <td>40.0</td>\n",
              "      <td>Very satisfied</td>\n",
              "      <td>Flex time or a flexible schedule;Remote work o...</td>\n",
              "      <td>Occasionally: 1-2 days per quarter but less th...</td>\n",
              "      <td>Critically important</td>\n",
              "    </tr>\n",
              "    <tr>\n",
              "      <th>10537</th>\n",
              "      <td>Republic of Moldova</td>\n",
              "      <td>24.0</td>\n",
              "      <td>Man</td>\n",
              "      <td>Bachelor’s degree (B.A., B.S., B.Eng., etc.)</td>\n",
              "      <td>Computer science, computer engineering, or sof...</td>\n",
              "      <td>No</td>\n",
              "      <td>14.0</td>\n",
              "      <td>4.0</td>\n",
              "      <td>NaN</td>\n",
              "      <td>Bash/Shell/PowerShell;C;C#;C++;HTML/CSS;JavaSc...</td>\n",
              "      <td>C#</td>\n",
              "      <td>Every few months</td>\n",
              "      <td>Meditate;Call a coworker or friend;Visit Stack...</td>\n",
              "      <td>Employed full-time</td>\n",
              "      <td>Developer, full-stack</td>\n",
              "      <td>40.0</td>\n",
              "      <td>Slightly satisfied</td>\n",
              "      <td>Flex time or a flexible schedule;Specific depa...</td>\n",
              "      <td>Often: 1-2 days per week or more</td>\n",
              "      <td>Somewhat important</td>\n",
              "    </tr>\n",
              "    <tr>\n",
              "      <th>20671</th>\n",
              "      <td>India</td>\n",
              "      <td>36.0</td>\n",
              "      <td>Man</td>\n",
              "      <td>Bachelor’s degree (B.A., B.S., B.Eng., etc.)</td>\n",
              "      <td>Another engineering discipline (such as civil,...</td>\n",
              "      <td>Yes</td>\n",
              "      <td>17.0</td>\n",
              "      <td>15.0</td>\n",
              "      <td>13.0</td>\n",
              "      <td>Bash/Shell/PowerShell;Go;Java;JavaScript;Python</td>\n",
              "      <td>Bash/Shell/PowerShell;Go;JavaScript;Python</td>\n",
              "      <td>Once every few years</td>\n",
              "      <td>Visit Stack Overflow;Watch help / tutorial vid...</td>\n",
              "      <td>Employed full-time</td>\n",
              "      <td>Developer, back-end;Developer, full-stack;DevO...</td>\n",
              "      <td>40.0</td>\n",
              "      <td>Very dissatisfied</td>\n",
              "      <td>Languages, frameworks, and other technologies ...</td>\n",
              "      <td>Sometimes: 1-2 days per month but less than we...</td>\n",
              "      <td>Very important</td>\n",
              "    </tr>\n",
              "    <tr>\n",
              "      <th>10107</th>\n",
              "      <td>Spain</td>\n",
              "      <td>25.0</td>\n",
              "      <td>Man</td>\n",
              "      <td>Other doctoral degree (Ph.D., Ed.D., etc.)</td>\n",
              "      <td>Computer science, computer engineering, or sof...</td>\n",
              "      <td>Yes</td>\n",
              "      <td>10.0</td>\n",
              "      <td>8.0</td>\n",
              "      <td>4.0</td>\n",
              "      <td>HTML/CSS;Java;JavaScript;PHP;Python;SQL</td>\n",
              "      <td>NaN</td>\n",
              "      <td>Once a year</td>\n",
              "      <td>Meditate;Visit Stack Overflow;Go for a walk or...</td>\n",
              "      <td>Employed full-time</td>\n",
              "      <td>Academic researcher;Developer, back-end;Develo...</td>\n",
              "      <td>25.0</td>\n",
              "      <td>Neither satisfied nor dissatisfied</td>\n",
              "      <td>Languages, frameworks, and other technologies ...</td>\n",
              "      <td>Occasionally: 1-2 days per quarter but less th...</td>\n",
              "      <td>Fairly important</td>\n",
              "    </tr>\n",
              "    <tr>\n",
              "      <th>57235</th>\n",
              "      <td>United Arab Emirates</td>\n",
              "      <td>35.0</td>\n",
              "      <td>Man</td>\n",
              "      <td>Bachelor’s degree (B.A., B.S., B.Eng., etc.)</td>\n",
              "      <td>Computer science, computer engineering, or sof...</td>\n",
              "      <td>No</td>\n",
              "      <td>18.0</td>\n",
              "      <td>18.0</td>\n",
              "      <td>16.0</td>\n",
              "      <td>C#;HTML/CSS;Java;SQL</td>\n",
              "      <td>C#;Dart;Go;Java;Python;R;SQL;Swift</td>\n",
              "      <td>Once a year</td>\n",
              "      <td>Visit Stack Overflow;Go for a walk or other ph...</td>\n",
              "      <td>Employed full-time</td>\n",
              "      <td>Developer, back-end;Developer, desktop or ente...</td>\n",
              "      <td>40.0</td>\n",
              "      <td>Slightly satisfied</td>\n",
              "      <td>Flex time or a flexible schedule;Financial per...</td>\n",
              "      <td>Often: 1-2 days per week or more</td>\n",
              "      <td>Somewhat important</td>\n",
              "    </tr>\n",
              "  </tbody>\n",
              "</table>\n",
              "</div>\n",
              "    <div class=\"colab-df-buttons\">\n",
              "\n",
              "  <div class=\"colab-df-container\">\n",
              "    <button class=\"colab-df-convert\" onclick=\"convertToInteractive('df-14133e4e-fd33-46bb-a612-f26936c56687')\"\n",
              "            title=\"Convert this dataframe to an interactive table.\"\n",
              "            style=\"display:none;\">\n",
              "\n",
              "  <svg xmlns=\"http://www.w3.org/2000/svg\" height=\"24px\" viewBox=\"0 -960 960 960\">\n",
              "    <path d=\"M120-120v-720h720v720H120Zm60-500h600v-160H180v160Zm220 220h160v-160H400v160Zm0 220h160v-160H400v160ZM180-400h160v-160H180v160Zm440 0h160v-160H620v160ZM180-180h160v-160H180v160Zm440 0h160v-160H620v160Z\"/>\n",
              "  </svg>\n",
              "    </button>\n",
              "\n",
              "  <style>\n",
              "    .colab-df-container {\n",
              "      display:flex;\n",
              "      gap: 12px;\n",
              "    }\n",
              "\n",
              "    .colab-df-convert {\n",
              "      background-color: #E8F0FE;\n",
              "      border: none;\n",
              "      border-radius: 50%;\n",
              "      cursor: pointer;\n",
              "      display: none;\n",
              "      fill: #1967D2;\n",
              "      height: 32px;\n",
              "      padding: 0 0 0 0;\n",
              "      width: 32px;\n",
              "    }\n",
              "\n",
              "    .colab-df-convert:hover {\n",
              "      background-color: #E2EBFA;\n",
              "      box-shadow: 0px 1px 2px rgba(60, 64, 67, 0.3), 0px 1px 3px 1px rgba(60, 64, 67, 0.15);\n",
              "      fill: #174EA6;\n",
              "    }\n",
              "\n",
              "    .colab-df-buttons div {\n",
              "      margin-bottom: 4px;\n",
              "    }\n",
              "\n",
              "    [theme=dark] .colab-df-convert {\n",
              "      background-color: #3B4455;\n",
              "      fill: #D2E3FC;\n",
              "    }\n",
              "\n",
              "    [theme=dark] .colab-df-convert:hover {\n",
              "      background-color: #434B5C;\n",
              "      box-shadow: 0px 1px 3px 1px rgba(0, 0, 0, 0.15);\n",
              "      filter: drop-shadow(0px 1px 2px rgba(0, 0, 0, 0.3));\n",
              "      fill: #FFFFFF;\n",
              "    }\n",
              "  </style>\n",
              "\n",
              "    <script>\n",
              "      const buttonEl =\n",
              "        document.querySelector('#df-14133e4e-fd33-46bb-a612-f26936c56687 button.colab-df-convert');\n",
              "      buttonEl.style.display =\n",
              "        google.colab.kernel.accessAllowed ? 'block' : 'none';\n",
              "\n",
              "      async function convertToInteractive(key) {\n",
              "        const element = document.querySelector('#df-14133e4e-fd33-46bb-a612-f26936c56687');\n",
              "        const dataTable =\n",
              "          await google.colab.kernel.invokeFunction('convertToInteractive',\n",
              "                                                    [key], {});\n",
              "        if (!dataTable) return;\n",
              "\n",
              "        const docLinkHtml = 'Like what you see? Visit the ' +\n",
              "          '<a target=\"_blank\" href=https://colab.research.google.com/notebooks/data_table.ipynb>data table notebook</a>'\n",
              "          + ' to learn more about interactive tables.';\n",
              "        element.innerHTML = '';\n",
              "        dataTable['output_type'] = 'display_data';\n",
              "        await google.colab.output.renderOutput(dataTable, element);\n",
              "        const docLink = document.createElement('div');\n",
              "        docLink.innerHTML = docLinkHtml;\n",
              "        element.appendChild(docLink);\n",
              "      }\n",
              "    </script>\n",
              "  </div>\n",
              "\n",
              "\n",
              "<div id=\"df-43166bf1-efcc-43ba-9037-1a29ed15a74a\">\n",
              "  <button class=\"colab-df-quickchart\" onclick=\"quickchart('df-43166bf1-efcc-43ba-9037-1a29ed15a74a')\"\n",
              "            title=\"Suggest charts\"\n",
              "            style=\"display:none;\">\n",
              "\n",
              "<svg xmlns=\"http://www.w3.org/2000/svg\" height=\"24px\"viewBox=\"0 0 24 24\"\n",
              "     width=\"24px\">\n",
              "    <g>\n",
              "        <path d=\"M19 3H5c-1.1 0-2 .9-2 2v14c0 1.1.9 2 2 2h14c1.1 0 2-.9 2-2V5c0-1.1-.9-2-2-2zM9 17H7v-7h2v7zm4 0h-2V7h2v10zm4 0h-2v-4h2v4z\"/>\n",
              "    </g>\n",
              "</svg>\n",
              "  </button>\n",
              "\n",
              "<style>\n",
              "  .colab-df-quickchart {\n",
              "      --bg-color: #E8F0FE;\n",
              "      --fill-color: #1967D2;\n",
              "      --hover-bg-color: #E2EBFA;\n",
              "      --hover-fill-color: #174EA6;\n",
              "      --disabled-fill-color: #AAA;\n",
              "      --disabled-bg-color: #DDD;\n",
              "  }\n",
              "\n",
              "  [theme=dark] .colab-df-quickchart {\n",
              "      --bg-color: #3B4455;\n",
              "      --fill-color: #D2E3FC;\n",
              "      --hover-bg-color: #434B5C;\n",
              "      --hover-fill-color: #FFFFFF;\n",
              "      --disabled-bg-color: #3B4455;\n",
              "      --disabled-fill-color: #666;\n",
              "  }\n",
              "\n",
              "  .colab-df-quickchart {\n",
              "    background-color: var(--bg-color);\n",
              "    border: none;\n",
              "    border-radius: 50%;\n",
              "    cursor: pointer;\n",
              "    display: none;\n",
              "    fill: var(--fill-color);\n",
              "    height: 32px;\n",
              "    padding: 0;\n",
              "    width: 32px;\n",
              "  }\n",
              "\n",
              "  .colab-df-quickchart:hover {\n",
              "    background-color: var(--hover-bg-color);\n",
              "    box-shadow: 0 1px 2px rgba(60, 64, 67, 0.3), 0 1px 3px 1px rgba(60, 64, 67, 0.15);\n",
              "    fill: var(--button-hover-fill-color);\n",
              "  }\n",
              "\n",
              "  .colab-df-quickchart-complete:disabled,\n",
              "  .colab-df-quickchart-complete:disabled:hover {\n",
              "    background-color: var(--disabled-bg-color);\n",
              "    fill: var(--disabled-fill-color);\n",
              "    box-shadow: none;\n",
              "  }\n",
              "\n",
              "  .colab-df-spinner {\n",
              "    border: 2px solid var(--fill-color);\n",
              "    border-color: transparent;\n",
              "    border-bottom-color: var(--fill-color);\n",
              "    animation:\n",
              "      spin 1s steps(1) infinite;\n",
              "  }\n",
              "\n",
              "  @keyframes spin {\n",
              "    0% {\n",
              "      border-color: transparent;\n",
              "      border-bottom-color: var(--fill-color);\n",
              "      border-left-color: var(--fill-color);\n",
              "    }\n",
              "    20% {\n",
              "      border-color: transparent;\n",
              "      border-left-color: var(--fill-color);\n",
              "      border-top-color: var(--fill-color);\n",
              "    }\n",
              "    30% {\n",
              "      border-color: transparent;\n",
              "      border-left-color: var(--fill-color);\n",
              "      border-top-color: var(--fill-color);\n",
              "      border-right-color: var(--fill-color);\n",
              "    }\n",
              "    40% {\n",
              "      border-color: transparent;\n",
              "      border-right-color: var(--fill-color);\n",
              "      border-top-color: var(--fill-color);\n",
              "    }\n",
              "    60% {\n",
              "      border-color: transparent;\n",
              "      border-right-color: var(--fill-color);\n",
              "    }\n",
              "    80% {\n",
              "      border-color: transparent;\n",
              "      border-right-color: var(--fill-color);\n",
              "      border-bottom-color: var(--fill-color);\n",
              "    }\n",
              "    90% {\n",
              "      border-color: transparent;\n",
              "      border-bottom-color: var(--fill-color);\n",
              "    }\n",
              "  }\n",
              "</style>\n",
              "\n",
              "  <script>\n",
              "    async function quickchart(key) {\n",
              "      const quickchartButtonEl =\n",
              "        document.querySelector('#' + key + ' button');\n",
              "      quickchartButtonEl.disabled = true;  // To prevent multiple clicks.\n",
              "      quickchartButtonEl.classList.add('colab-df-spinner');\n",
              "      try {\n",
              "        const charts = await google.colab.kernel.invokeFunction(\n",
              "            'suggestCharts', [key], {});\n",
              "      } catch (error) {\n",
              "        console.error('Error during call to suggestCharts:', error);\n",
              "      }\n",
              "      quickchartButtonEl.classList.remove('colab-df-spinner');\n",
              "      quickchartButtonEl.classList.add('colab-df-quickchart-complete');\n",
              "    }\n",
              "    (() => {\n",
              "      let quickchartButtonEl =\n",
              "        document.querySelector('#df-43166bf1-efcc-43ba-9037-1a29ed15a74a button');\n",
              "      quickchartButtonEl.style.display =\n",
              "        google.colab.kernel.accessAllowed ? 'block' : 'none';\n",
              "    })();\n",
              "  </script>\n",
              "</div>\n",
              "\n",
              "    </div>\n",
              "  </div>\n"
            ]
          },
          "metadata": {},
          "execution_count": 19
        }
      ]
    },
    {
      "cell_type": "markdown",
      "source": [
        "#Exploratory Data Analysis and Visualization\n",
        "Before we ask questions about the survey responses, it would help to understand the respondents' demographics, i.e., country, age, gender, education level, employment level, etc. It's essential to explore these variables to understand how representative the survey is of the worldwide programming community. A survey of this scale generally tends to have some [selection bias](https://en.wikipedia.org/wiki/Selection_bias)."
      ],
      "metadata": {
        "id": "MAmh-uA7W4sW"
      }
    },
    {
      "cell_type": "code",
      "source": [
        "import seaborn as sns\n",
        "import matplotlib\n",
        "import matplotlib.pyplot as plt\n",
        "%matplotlib inline\n",
        "\n",
        "sns.set_style('darkgrid')\n",
        "matplotlib.rcParams['font.size'] = 10\n",
        "matplotlib.rcParams['figure.figsize'] = (9, 5)\n",
        "matplotlib.rcParams['figure.facecolor'] = '#00000000'"
      ],
      "metadata": {
        "id": "szanQ9rSQc8t"
      },
      "execution_count": 20,
      "outputs": []
    },
    {
      "cell_type": "markdown",
      "source": [
        "##Country\n",
        "Looking at the number of countries from which there are responses in the survey and plot the ten countries with the highest number of responses."
      ],
      "metadata": {
        "id": "F2-YpIwvpW9u"
      }
    },
    {
      "cell_type": "code",
      "source": [
        "schema.Country"
      ],
      "metadata": {
        "colab": {
          "base_uri": "https://localhost:8080/",
          "height": 35
        },
        "id": "LtO-nRNDpKES",
        "outputId": "56846e93-b05b-400d-c6b7-3b6888923f65"
      },
      "execution_count": 21,
      "outputs": [
        {
          "output_type": "execute_result",
          "data": {
            "text/plain": [
              "'Where do you live?'"
            ],
            "application/vnd.google.colaboratory.intrinsic+json": {
              "type": "string"
            }
          },
          "metadata": {},
          "execution_count": 21
        }
      ]
    },
    {
      "cell_type": "code",
      "source": [
        "survey_df.Country.nunique()"
      ],
      "metadata": {
        "colab": {
          "base_uri": "https://localhost:8080/"
        },
        "id": "Dl6yscnWph0L",
        "outputId": "32d741d3-45d7-4226-ec25-d7ff82035f39"
      },
      "execution_count": 22,
      "outputs": [
        {
          "output_type": "execute_result",
          "data": {
            "text/plain": [
              "172"
            ]
          },
          "metadata": {},
          "execution_count": 22
        }
      ]
    },
    {
      "cell_type": "code",
      "source": [
        "top_countries = survey_df.Country.value_counts().head(15)\n",
        "top_countries"
      ],
      "metadata": {
        "colab": {
          "base_uri": "https://localhost:8080/"
        },
        "id": "RKaoh18spooE",
        "outputId": "995f54a8-f951-47fa-976d-2250201b04d0"
      },
      "execution_count": 23,
      "outputs": [
        {
          "output_type": "execute_result",
          "data": {
            "text/plain": [
              "United States         10392\n",
              "India                  5376\n",
              "Germany                3317\n",
              "United Kingdom         3259\n",
              "Canada                 1811\n",
              "France                 1540\n",
              "Brazil                 1439\n",
              "Netherlands            1127\n",
              "Poland                 1065\n",
              "Australia              1018\n",
              "Spain                   940\n",
              "Italy                   927\n",
              "Russian Federation      872\n",
              "Sweden                  753\n",
              "Turkey                  585\n",
              "Name: Country, dtype: int64"
            ]
          },
          "metadata": {},
          "execution_count": 23
        }
      ]
    },
    {
      "cell_type": "code",
      "source": [
        "plt.figure(figsize=(9,4))\n",
        "plt.xticks(rotation=60)\n",
        "plt.title(schema.Country)\n",
        "sns.barplot(x=top_countries.index, y=top_countries);"
      ],
      "metadata": {
        "colab": {
          "base_uri": "https://localhost:8080/",
          "height": 498
        },
        "id": "w-uohvt2p9IG",
        "outputId": "d182eca3-7d7e-4a5e-ab06-c35b464d46dc"
      },
      "execution_count": 24,
      "outputs": [
        {
          "output_type": "display_data",
          "data": {
            "text/plain": [
              "<Figure size 900x400 with 1 Axes>"
            ],
            "image/png": "[encoded data removed]"
          },
          "metadata": {
            "needs_background": "light"
          }
        }
      ]
    },
    {
      "cell_type": "markdown",
      "source": [
        "\n",
        "> A significant number of survey respondents seem to originate from the US and India, likely due to the survey being conducted in English, and these countries having larger English speaking populations. This observation indicates that the survey might not accurately represent the worldwide programming community, especially those from non-English speaking nations. It's highly probable that programmers from non-English speaking countries are not proportionally represented in this survey.\n",
        "\n"
      ],
      "metadata": {
        "id": "fnyJq5nfsPEh"
      }
    },
    {
      "cell_type": "markdown",
      "source": [
        "##Age\n",
        "Distribution of Age"
      ],
      "metadata": {
        "id": "q98U83pNs5XC"
      }
    },
    {
      "cell_type": "code",
      "source": [
        "plt.figure(figsize=(9,4))\n",
        "plt.title(schema.Age)\n",
        "plt.xlabel('Age')\n",
        "plt.ylabel('No. of responses')\n",
        "\n",
        "plt.hist(survey_df.Age, bins=np.arange(10,100,5), color='purple');"
      ],
      "metadata": {
        "colab": {
          "base_uri": "https://localhost:8080/",
          "height": 410
        },
        "id": "uEQxF2nhrh6n",
        "outputId": "b999178e-d685-4b2a-c56f-89eb0d3a717c"
      },
      "execution_count": 25,
      "outputs": [
        {
          "output_type": "display_data",
          "data": {
            "text/plain": [
              "<Figure size 900x400 with 1 Axes>"
            ],
            "image/png": "[encoded data removed]"
          },
          "metadata": {
            "needs_background": "light"
          }
        }
      ]
    },
    {
      "cell_type": "markdown",
      "source": [
        "\n",
        "> A significant portion of individuals who participated in the survey fall within the age range of `20 to 45 years`. This demographic aligns fairly well with the overall programming community. Over the past two decades, a considerable number of young individuals have chosen computer science as their academic pursuit or professional career.\n",
        "\n",
        "\n",
        "For a more comprehensive examination, we can segregate the responses based on different age brackets. This can be accomplished by introducing a new column named AgeGroup, categorizing respondents into distinct groups such as Less than `10 years`, `10-18 years`, `18-30 years`, `30-45 years`, `45-60 years`, and `Older than 60 years`. Afterward, we can carry out an analysis within this notebook for each of these specified age groups."
      ],
      "metadata": {
        "id": "Y3tzAnUivH49"
      }
    },
    {
      "cell_type": "markdown",
      "source": [
        "##Gender\n",
        "Now let's look at the gender distribution from the response. We might see a skewed data here, the reason being women and non-binary people are underrepresented the programming community in general."
      ],
      "metadata": {
        "id": "w0x0EBz3v3Fb"
      }
    },
    {
      "cell_type": "code",
      "source": [
        "schema.Gender"
      ],
      "metadata": {
        "colab": {
          "base_uri": "https://localhost:8080/",
          "height": 53
        },
        "id": "sWAVAT4guU3u",
        "outputId": "04296248-1a8c-4a5e-abd7-1eb3860bfd6e"
      },
      "execution_count": 26,
      "outputs": [
        {
          "output_type": "execute_result",
          "data": {
            "text/plain": [
              "'Which of the following describe you, if any? Please check all that apply. If you prefer not to answer, you may leave this question blank.'"
            ],
            "application/vnd.google.colaboratory.intrinsic+json": {
              "type": "string"
            }
          },
          "metadata": {},
          "execution_count": 26
        }
      ]
    },
    {
      "cell_type": "code",
      "source": [
        "gender_counts = survey_df.Gender.value_counts()\n",
        "gender_counts"
      ],
      "metadata": {
        "colab": {
          "base_uri": "https://localhost:8080/"
        },
        "id": "HO_633uewFU6",
        "outputId": "a280a536-bde4-4fa6-c477-fcd3919e5fcd"
      },
      "execution_count": 27,
      "outputs": [
        {
          "output_type": "execute_result",
          "data": {
            "text/plain": [
              "Man                                                  45895\n",
              "Woman                                                 3835\n",
              "Non-binary, genderqueer, or gender non-conforming      385\n",
              "Name: Gender, dtype: int64"
            ]
          },
          "metadata": {},
          "execution_count": 27
        }
      ]
    },
    {
      "cell_type": "code",
      "source": [
        "plt.figure(figsize=(9,4))\n",
        "plt.title(schema.Gender)\n",
        "\n",
        "plt.pie(gender_counts, labels=gender_counts.index, autopct=\"%1.1f%%\", startangle=180);"
      ],
      "metadata": {
        "colab": {
          "base_uri": "https://localhost:8080/",
          "height": 306
        },
        "id": "kdTKZcwbwNOz",
        "outputId": "9221d23a-d679-40a0-bb13-77c2db20e291"
      },
      "execution_count": 28,
      "outputs": [
        {
          "output_type": "display_data",
          "data": {
            "text/plain": [
              "<Figure size 900x400 with 1 Axes>"
            ],
            "image/png": "[encoded data removed]"
          },
          "metadata": {}
        }
      ]
    },
    {
      "cell_type": "markdown",
      "source": [
        "> Merely around 8% of those surveyed and responded to the question identify themselves as women or non-binary. This figure falls short of the estimated overall representation of women and non-binary individuals in the programming community, which is approximately 12%.\n",
        "\n",
        "It would also be interesting to compare the survey responses & preferences across genders. Repeat this analysis with these breakdowns:\n",
        "* How do the relative education levels differ across genders?\n",
        "* How do the salaries vary?, etc."
      ],
      "metadata": {
        "id": "OkR9_ZLEyTzV"
      }
    },
    {
      "cell_type": "markdown",
      "source": [
        "##Educational Level\n",
        "Formal education in computer science is often considered an essential requirement for becoming a programmer. However, there are many free resources & tutorials available online to learn programming. Let's compare the education levels of respondents to gain some insight into this."
      ],
      "metadata": {
        "id": "VTo8qV05zCOG"
      }
    },
    {
      "cell_type": "code",
      "source": [
        "sns.countplot(y=survey_df.EdLevel)\n",
        "plt.xticks(rotation=60)\n",
        "plt.title(schema.EdLevel)\n",
        "plt.ylabel(None);"
      ],
      "metadata": {
        "colab": {
          "base_uri": "https://localhost:8080/",
          "height": 356
        },
        "id": "fcpkpln0xua2",
        "outputId": "e3103349-1de1-4744-8e25-6be9956f9579"
      },
      "execution_count": 29,
      "outputs": [
        {
          "output_type": "display_data",
          "data": {
            "text/plain": [
              "<Figure size 900x500 with 1 Axes>"
            ],
            "image/png": "[encoded data removed]"
          },
          "metadata": {
            "needs_background": "light"
          }
        }
      ]
    },
    {
      "cell_type": "markdown",
      "source": [
        "> A majority of those surveyed possess either a bachelor's or master's degree, indicating that a majority of programmers have undergone some form of higher education. However, this graph does not reveal whether these degrees are specifically in computer science or fields related to IT"
      ],
      "metadata": {
        "id": "HQXW4ccP1ZFr"
      }
    },
    {
      "cell_type": "markdown",
      "source": [
        "Let's also plot undergraduate majors, but this time we'll convert the numbers into percentages and sort the values to make it easier to visualize the order."
      ],
      "metadata": {
        "id": "gcqwjKU-2dvE"
      }
    },
    {
      "cell_type": "code",
      "source": [
        "schema.UndergradMajor"
      ],
      "metadata": {
        "colab": {
          "base_uri": "https://localhost:8080/",
          "height": 35
        },
        "id": "bGGHQODO0kTk",
        "outputId": "abe48eb4-0178-4812-e54b-6e6923a5e813"
      },
      "execution_count": 30,
      "outputs": [
        {
          "output_type": "execute_result",
          "data": {
            "text/plain": [
              "'What was your primary field of study?'"
            ],
            "application/vnd.google.colaboratory.intrinsic+json": {
              "type": "string"
            }
          },
          "metadata": {},
          "execution_count": 30
        }
      ]
    },
    {
      "cell_type": "code",
      "source": [
        "undergrad_pcgt = survey_df.UndergradMajor.value_counts() * 100 / survey_df.UndergradMajor.count()\n",
        "\n",
        "sns.barplot(x=undergrad_pcgt, y=undergrad_pcgt.index)\n",
        "plt.title(\"Totle Majors Count & Percentage Distribution\")\n",
        "plt.ylabel(None)\n",
        "plt.xlabel(\"Percentage\");"
      ],
      "metadata": {
        "colab": {
          "base_uri": "https://localhost:8080/",
          "height": 370
        },
        "id": "vLKUtMi92iWb",
        "outputId": "e72d4687-8e09-43bd-9d6c-10b4f8ef1f87"
      },
      "execution_count": 31,
      "outputs": [
        {
          "output_type": "display_data",
          "data": {
            "text/plain": [
              "<Figure size 900x500 with 1 Axes>"
            ],
            "image/png": "[encoded data removed]"
          },
          "metadata": {
            "needs_background": "light"
          }
        }
      ]
    },
    {
      "cell_type": "markdown",
      "source": [
        "> Approximately 40% of programmers who possess a college degree actually studied something other than computer science. This statistic implies that although a college education can be beneficial overall, specializing in computer science might not be a necessary requirement for achieving success as a programmer."
      ],
      "metadata": {
        "id": "w6df2bfi5LTg"
      }
    },
    {
      "cell_type": "markdown",
      "source": [
        "For a deeper analysis, we can explore the variations in responses between individuals with a background in Computer Science and those without such a background."
      ],
      "metadata": {
        "id": "AQrvVyie5bm6"
      }
    },
    {
      "cell_type": "markdown",
      "source": [
        "#Asking and Answering Questions\n",
        "We've already gained several insights about the respondents and the programming community by exploring individual columns of the dataset. Let's ask some specific questions and try to answer them using data frame operations and visualizations."
      ],
      "metadata": {
        "id": "oeTZOgQjqIa6"
      }
    },
    {
      "cell_type": "markdown",
      "source": [
        "####**Q: What are the most popular programming languages in 2020?**"
      ],
      "metadata": {
        "id": "ZCsCnlr-qxTx"
      }
    },
    {
      "cell_type": "markdown",
      "source": [
        "To answer, this we can use the `LanguageWorkedWith` column."
      ],
      "metadata": {
        "id": "gJIkw-lqq5Hk"
      }
    },
    {
      "cell_type": "code",
      "source": [
        "survey_df.LanguageWorkedWith"
      ],
      "metadata": {
        "id": "hB-yCRz83T5K",
        "colab": {
          "base_uri": "https://localhost:8080/"
        },
        "outputId": "5498c677-ab82-4251-e9ac-0b96e7a3e417"
      },
      "execution_count": 32,
      "outputs": [
        {
          "output_type": "execute_result",
          "data": {
            "text/plain": [
              "0                                   C#;HTML/CSS;JavaScript\n",
              "3                                                      NaN\n",
              "4                                        HTML/CSS;Ruby;SQL\n",
              "5                                 HTML/CSS;Java;JavaScript\n",
              "7                                               Python;SQL\n",
              "                               ...                        \n",
              "64437                                                  NaN\n",
              "64438       C++;HTML/CSS;JavaScript;Python;Ruby;TypeScript\n",
              "64439                                                  NaN\n",
              "64441                                        C;C#;C++;Java\n",
              "64446    Bash/Shell/PowerShell;C;C#;C++;HTML/CSS;Java;J...\n",
              "Name: LanguageWorkedWith, Length: 50115, dtype: object"
            ]
          },
          "metadata": {},
          "execution_count": 32
        }
      ]
    },
    {
      "cell_type": "markdown",
      "source": [
        "First, we'll split this column into a data frame containing a column of each language listed in the options."
      ],
      "metadata": {
        "id": "xGC-bR1qrm_H"
      }
    },
    {
      "cell_type": "code",
      "source": [
        "def split_multicolumn(col_series):\n",
        "    result_df = col_series.to_frame()\n",
        "    options = []\n",
        "    # Iterate over the column\n",
        "    for idx, value  in col_series[col_series.notnull()].iteritems():\n",
        "        # Break each value into list of options\n",
        "        for option in value.split(';'):\n",
        "            # Add the option as a column to result\n",
        "            if not option in result_df.columns:\n",
        "                options.append(option)\n",
        "                result_df[option] = False\n",
        "            # Mark the value in the option column as True\n",
        "            result_df.at[idx, option] = True\n",
        "    return result_df[options]"
      ],
      "metadata": {
        "id": "Jj-3Ff9ntLCg"
      },
      "execution_count": 33,
      "outputs": []
    },
    {
      "cell_type": "code",
      "source": [
        "language_worked_df = split_multicolumn(survey_df.LanguageWorkedWith)\n",
        "language_worked_df"
      ],
      "metadata": {
        "colab": {
          "base_uri": "https://localhost:8080/",
          "height": 496
        },
        "id": "aTZVA-ojrD26",
        "outputId": "19207fb2-6898-4665-a774-5d553b46ccec"
      },
      "execution_count": 34,
      "outputs": [
        {
          "output_type": "stream",
          "name": "stderr",
          "text": [
            "<ipython-input-33-26a445763b0d>:5: FutureWarning: iteritems is deprecated and will be removed in a future version. Use .items instead.\n",
            "  for idx, value  in col_series[col_series.notnull()].iteritems():\n"
          ]
        },
        {
          "output_type": "execute_result",
          "data": {
            "text/plain": [
              "          C#  HTML/CSS  JavaScript   Ruby    SQL   Java  Python    PHP  Swift  \\\n",
              "0       True      True        True  False  False  False   False  False  False   \n",
              "3      False     False       False  False  False  False   False  False  False   \n",
              "4      False      True       False   True   True  False   False  False  False   \n",
              "5      False      True        True  False  False   True   False  False  False   \n",
              "7      False     False       False  False   True  False    True  False  False   \n",
              "...      ...       ...         ...    ...    ...    ...     ...    ...    ...   \n",
              "64437  False     False       False  False  False  False   False  False  False   \n",
              "64438  False      True        True   True  False  False    True  False  False   \n",
              "64439  False     False       False  False  False  False   False  False  False   \n",
              "64441   True     False       False  False  False   True   False  False  False   \n",
              "64446   True      True        True  False  False   True    True  False   True   \n",
              "\n",
              "           C  ...   Perl  Objective-C  Scala    C++     Go  Haskell   Rust  \\\n",
              "0      False  ...  False        False  False  False  False    False  False   \n",
              "3      False  ...  False        False  False  False  False    False  False   \n",
              "4      False  ...  False        False  False  False  False    False  False   \n",
              "5      False  ...  False        False  False  False  False    False  False   \n",
              "7      False  ...  False        False  False  False  False    False  False   \n",
              "...      ...  ...    ...          ...    ...    ...    ...      ...    ...   \n",
              "64437  False  ...  False        False  False  False  False    False  False   \n",
              "64438  False  ...  False        False  False   True  False    False  False   \n",
              "64439  False  ...  False        False  False  False  False    False  False   \n",
              "64441   True  ...  False        False  False   True  False    False  False   \n",
              "64446   True  ...  False         True  False   True  False    False  False   \n",
              "\n",
              "        Dart  Julia  Assembly  \n",
              "0      False  False     False  \n",
              "3      False  False     False  \n",
              "4      False  False     False  \n",
              "5      False  False     False  \n",
              "7      False  False     False  \n",
              "...      ...    ...       ...  \n",
              "64437  False  False     False  \n",
              "64438  False  False     False  \n",
              "64439  False  False     False  \n",
              "64441  False  False     False  \n",
              "64446  False  False     False  \n",
              "\n",
              "[50115 rows x 25 columns]"
            ],
            "text/html": [
              "\n",
              "  <div id=\"df-b6839470-9268-4931-bf30-e6948be7a475\" class=\"colab-df-container\">\n",
              "    <div>\n",
              "<style scoped>\n",
              "    .dataframe tbody tr th:only-of-type {\n",
              "        vertical-align: middle;\n",
              "    }\n",
              "\n",
              "    .dataframe tbody tr th {\n",
              "        vertical-align: top;\n",
              "    }\n",
              "\n",
              "    .dataframe thead th {\n",
              "        text-align: right;\n",
              "    }\n",
              "</style>\n",
              "<table border=\"1\" class=\"dataframe\">\n",
              "  <thead>\n",
              "    <tr style=\"text-align: right;\">\n",
              "      <th></th>\n",
              "      <th>C#</th>\n",
              "      <th>HTML/CSS</th>\n",
              "      <th>JavaScript</th>\n",
              "      <th>Ruby</th>\n",
              "      <th>SQL</th>\n",
              "      <th>Java</th>\n",
              "      <th>Python</th>\n",
              "      <th>PHP</th>\n",
              "      <th>Swift</th>\n",
              "      <th>C</th>\n",
              "      <th>...</th>\n",
              "      <th>Perl</th>\n",
              "      <th>Objective-C</th>\n",
              "      <th>Scala</th>\n",
              "      <th>C++</th>\n",
              "      <th>Go</th>\n",
              "      <th>Haskell</th>\n",
              "      <th>Rust</th>\n",
              "      <th>Dart</th>\n",
              "      <th>Julia</th>\n",
              "      <th>Assembly</th>\n",
              "    </tr>\n",
              "  </thead>\n",
              "  <tbody>\n",
              "    <tr>\n",
              "      <th>0</th>\n",
              "      <td>True</td>\n",
              "      <td>True</td>\n",
              "      <td>True</td>\n",
              "      <td>False</td>\n",
              "      <td>False</td>\n",
              "      <td>False</td>\n",
              "      <td>False</td>\n",
              "      <td>False</td>\n",
              "      <td>False</td>\n",
              "      <td>False</td>\n",
              "      <td>...</td>\n",
              "      <td>False</td>\n",
              "      <td>False</td>\n",
              "      <td>False</td>\n",
              "      <td>False</td>\n",
              "      <td>False</td>\n",
              "      <td>False</td>\n",
              "      <td>False</td>\n",
              "      <td>False</td>\n",
              "      <td>False</td>\n",
              "      <td>False</td>\n",
              "    </tr>\n",
              "    <tr>\n",
              "      <th>3</th>\n",
              "      <td>False</td>\n",
              "      <td>False</td>\n",
              "      <td>False</td>\n",
              "      <td>False</td>\n",
              "      <td>False</td>\n",
              "      <td>False</td>\n",
              "      <td>False</td>\n",
              "      <td>False</td>\n",
              "      <td>False</td>\n",
              "      <td>False</td>\n",
              "      <td>...</td>\n",
              "      <td>False</td>\n",
              "      <td>False</td>\n",
              "      <td>False</td>\n",
              "      <td>False</td>\n",
              "      <td>False</td>\n",
              "      <td>False</td>\n",
              "      <td>False</td>\n",
              "      <td>False</td>\n",
              "      <td>False</td>\n",
              "      <td>False</td>\n",
              "    </tr>\n",
              "    <tr>\n",
              "      <th>4</th>\n",
              "      <td>False</td>\n",
              "      <td>True</td>\n",
              "      <td>False</td>\n",
              "      <td>True</td>\n",
              "      <td>True</td>\n",
              "      <td>False</td>\n",
              "      <td>False</td>\n",
              "      <td>False</td>\n",
              "      <td>False</td>\n",
              "      <td>False</td>\n",
              "      <td>...</td>\n",
              "      <td>False</td>\n",
              "      <td>False</td>\n",
              "      <td>False</td>\n",
              "      <td>False</td>\n",
              "      <td>False</td>\n",
              "      <td>False</td>\n",
              "      <td>False</td>\n",
              "      <td>False</td>\n",
              "      <td>False</td>\n",
              "      <td>False</td>\n",
              "    </tr>\n",
              "    <tr>\n",
              "      <th>5</th>\n",
              "      <td>False</td>\n",
              "      <td>True</td>\n",
              "      <td>True</td>\n",
              "      <td>False</td>\n",
              "      <td>False</td>\n",
              "      <td>True</td>\n",
              "      <td>False</td>\n",
              "      <td>False</td>\n",
              "      <td>False</td>\n",
              "      <td>False</td>\n",
              "      <td>...</td>\n",
              "      <td>False</td>\n",
              "      <td>False</td>\n",
              "      <td>False</td>\n",
              "      <td>False</td>\n",
              "      <td>False</td>\n",
              "      <td>False</td>\n",
              "      <td>False</td>\n",
              "      <td>False</td>\n",
              "      <td>False</td>\n",
              "      <td>False</td>\n",
              "    </tr>\n",
              "    <tr>\n",
              "      <th>7</th>\n",
              "      <td>False</td>\n",
              "      <td>False</td>\n",
              "      <td>False</td>\n",
              "      <td>False</td>\n",
              "      <td>True</td>\n",
              "      <td>False</td>\n",
              "      <td>True</td>\n",
              "      <td>False</td>\n",
              "      <td>False</td>\n",
              "      <td>False</td>\n",
              "      <td>...</td>\n",
              "      <td>False</td>\n",
              "      <td>False</td>\n",
              "      <td>False</td>\n",
              "      <td>False</td>\n",
              "      <td>False</td>\n",
              "      <td>False</td>\n",
              "      <td>False</td>\n",
              "      <td>False</td>\n",
              "      <td>False</td>\n",
              "      <td>False</td>\n",
              "    </tr>\n",
              "    <tr>\n",
              "      <th>...</th>\n",
              "      <td>...</td>\n",
              "      <td>...</td>\n",
              "      <td>...</td>\n",
              "      <td>...</td>\n",
              "      <td>...</td>\n",
              "      <td>...</td>\n",
              "      <td>...</td>\n",
              "      <td>...</td>\n",
              "      <td>...</td>\n",
              "      <td>...</td>\n",
              "      <td>...</td>\n",
              "      <td>...</td>\n",
              "      <td>...</td>\n",
              "      <td>...</td>\n",
              "      <td>...</td>\n",
              "      <td>...</td>\n",
              "      <td>...</td>\n",
              "      <td>...</td>\n",
              "      <td>...</td>\n",
              "      <td>...</td>\n",
              "      <td>...</td>\n",
              "    </tr>\n",
              "    <tr>\n",
              "      <th>64437</th>\n",
              "      <td>False</td>\n",
              "      <td>False</td>\n",
              "      <td>False</td>\n",
              "      <td>False</td>\n",
              "      <td>False</td>\n",
              "      <td>False</td>\n",
              "      <td>False</td>\n",
              "      <td>False</td>\n",
              "      <td>False</td>\n",
              "      <td>False</td>\n",
              "      <td>...</td>\n",
              "      <td>False</td>\n",
              "      <td>False</td>\n",
              "      <td>False</td>\n",
              "      <td>False</td>\n",
              "      <td>False</td>\n",
              "      <td>False</td>\n",
              "      <td>False</td>\n",
              "      <td>False</td>\n",
              "      <td>False</td>\n",
              "      <td>False</td>\n",
              "    </tr>\n",
              "    <tr>\n",
              "      <th>64438</th>\n",
              "      <td>False</td>\n",
              "      <td>True</td>\n",
              "      <td>True</td>\n",
              "      <td>True</td>\n",
              "      <td>False</td>\n",
              "      <td>False</td>\n",
              "      <td>True</td>\n",
              "      <td>False</td>\n",
              "      <td>False</td>\n",
              "      <td>False</td>\n",
              "      <td>...</td>\n",
              "      <td>False</td>\n",
              "      <td>False</td>\n",
              "      <td>False</td>\n",
              "      <td>True</td>\n",
              "      <td>False</td>\n",
              "      <td>False</td>\n",
              "      <td>False</td>\n",
              "      <td>False</td>\n",
              "      <td>False</td>\n",
              "      <td>False</td>\n",
              "    </tr>\n",
              "    <tr>\n",
              "      <th>64439</th>\n",
              "      <td>False</td>\n",
              "      <td>False</td>\n",
              "      <td>False</td>\n",
              "      <td>False</td>\n",
              "      <td>False</td>\n",
              "      <td>False</td>\n",
              "      <td>False</td>\n",
              "      <td>False</td>\n",
              "      <td>False</td>\n",
              "      <td>False</td>\n",
              "      <td>...</td>\n",
              "      <td>False</td>\n",
              "      <td>False</td>\n",
              "      <td>False</td>\n",
              "      <td>False</td>\n",
              "      <td>False</td>\n",
              "      <td>False</td>\n",
              "      <td>False</td>\n",
              "      <td>False</td>\n",
              "      <td>False</td>\n",
              "      <td>False</td>\n",
              "    </tr>\n",
              "    <tr>\n",
              "      <th>64441</th>\n",
              "      <td>True</td>\n",
              "      <td>False</td>\n",
              "      <td>False</td>\n",
              "      <td>False</td>\n",
              "      <td>False</td>\n",
              "      <td>True</td>\n",
              "      <td>False</td>\n",
              "      <td>False</td>\n",
              "      <td>False</td>\n",
              "      <td>True</td>\n",
              "      <td>...</td>\n",
              "      <td>False</td>\n",
              "      <td>False</td>\n",
              "      <td>False</td>\n",
              "      <td>True</td>\n",
              "      <td>False</td>\n",
              "      <td>False</td>\n",
              "      <td>False</td>\n",
              "      <td>False</td>\n",
              "      <td>False</td>\n",
              "      <td>False</td>\n",
              "    </tr>\n",
              "    <tr>\n",
              "      <th>64446</th>\n",
              "      <td>True</td>\n",
              "      <td>True</td>\n",
              "      <td>True</td>\n",
              "      <td>False</td>\n",
              "      <td>False</td>\n",
              "      <td>True</td>\n",
              "      <td>True</td>\n",
              "      <td>False</td>\n",
              "      <td>True</td>\n",
              "      <td>True</td>\n",
              "      <td>...</td>\n",
              "      <td>False</td>\n",
              "      <td>True</td>\n",
              "      <td>False</td>\n",
              "      <td>True</td>\n",
              "      <td>False</td>\n",
              "      <td>False</td>\n",
              "      <td>False</td>\n",
              "      <td>False</td>\n",
              "      <td>False</td>\n",
              "      <td>False</td>\n",
              "    </tr>\n",
              "  </tbody>\n",
              "</table>\n",
              "<p>50115 rows × 25 columns</p>\n",
              "</div>\n",
              "    <div class=\"colab-df-buttons\">\n",
              "\n",
              "  <div class=\"colab-df-container\">\n",
              "    <button class=\"colab-df-convert\" onclick=\"convertToInteractive('df-b6839470-9268-4931-bf30-e6948be7a475')\"\n",
              "            title=\"Convert this dataframe to an interactive table.\"\n",
              "            style=\"display:none;\">\n",
              "\n",
              "  <svg xmlns=\"http://www.w3.org/2000/svg\" height=\"24px\" viewBox=\"0 -960 960 960\">\n",
              "    <path d=\"M120-120v-720h720v720H120Zm60-500h600v-160H180v160Zm220 220h160v-160H400v160Zm0 220h160v-160H400v160ZM180-400h160v-160H180v160Zm440 0h160v-160H620v160ZM180-180h160v-160H180v160Zm440 0h160v-160H620v160Z\"/>\n",
              "  </svg>\n",
              "    </button>\n",
              "\n",
              "  <style>\n",
              "    .colab-df-container {\n",
              "      display:flex;\n",
              "      gap: 12px;\n",
              "    }\n",
              "\n",
              "    .colab-df-convert {\n",
              "      background-color: #E8F0FE;\n",
              "      border: none;\n",
              "      border-radius: 50%;\n",
              "      cursor: pointer;\n",
              "      display: none;\n",
              "      fill: #1967D2;\n",
              "      height: 32px;\n",
              "      padding: 0 0 0 0;\n",
              "      width: 32px;\n",
              "    }\n",
              "\n",
              "    .colab-df-convert:hover {\n",
              "      background-color: #E2EBFA;\n",
              "      box-shadow: 0px 1px 2px rgba(60, 64, 67, 0.3), 0px 1px 3px 1px rgba(60, 64, 67, 0.15);\n",
              "      fill: #174EA6;\n",
              "    }\n",
              "\n",
              "    .colab-df-buttons div {\n",
              "      margin-bottom: 4px;\n",
              "    }\n",
              "\n",
              "    [theme=dark] .colab-df-convert {\n",
              "      background-color: #3B4455;\n",
              "      fill: #D2E3FC;\n",
              "    }\n",
              "\n",
              "    [theme=dark] .colab-df-convert:hover {\n",
              "      background-color: #434B5C;\n",
              "      box-shadow: 0px 1px 3px 1px rgba(0, 0, 0, 0.15);\n",
              "      filter: drop-shadow(0px 1px 2px rgba(0, 0, 0, 0.3));\n",
              "      fill: #FFFFFF;\n",
              "    }\n",
              "  </style>\n",
              "\n",
              "    <script>\n",
              "      const buttonEl =\n",
              "        document.querySelector('#df-b6839470-9268-4931-bf30-e6948be7a475 button.colab-df-convert');\n",
              "      buttonEl.style.display =\n",
              "        google.colab.kernel.accessAllowed ? 'block' : 'none';\n",
              "\n",
              "      async function convertToInteractive(key) {\n",
              "        const element = document.querySelector('#df-b6839470-9268-4931-bf30-e6948be7a475');\n",
              "        const dataTable =\n",
              "          await google.colab.kernel.invokeFunction('convertToInteractive',\n",
              "                                                    [key], {});\n",
              "        if (!dataTable) return;\n",
              "\n",
              "        const docLinkHtml = 'Like what you see? Visit the ' +\n",
              "          '<a target=\"_blank\" href=https://colab.research.google.com/notebooks/data_table.ipynb>data table notebook</a>'\n",
              "          + ' to learn more about interactive tables.';\n",
              "        element.innerHTML = '';\n",
              "        dataTable['output_type'] = 'display_data';\n",
              "        await google.colab.output.renderOutput(dataTable, element);\n",
              "        const docLink = document.createElement('div');\n",
              "        docLink.innerHTML = docLinkHtml;\n",
              "        element.appendChild(docLink);\n",
              "      }\n",
              "    </script>\n",
              "  </div>\n",
              "\n",
              "\n",
              "<div id=\"df-2ddbe1c8-4d07-49bd-9325-063ed9ee9279\">\n",
              "  <button class=\"colab-df-quickchart\" onclick=\"quickchart('df-2ddbe1c8-4d07-49bd-9325-063ed9ee9279')\"\n",
              "            title=\"Suggest charts\"\n",
              "            style=\"display:none;\">\n",
              "\n",
              "<svg xmlns=\"http://www.w3.org/2000/svg\" height=\"24px\"viewBox=\"0 0 24 24\"\n",
              "     width=\"24px\">\n",
              "    <g>\n",
              "        <path d=\"M19 3H5c-1.1 0-2 .9-2 2v14c0 1.1.9 2 2 2h14c1.1 0 2-.9 2-2V5c0-1.1-.9-2-2-2zM9 17H7v-7h2v7zm4 0h-2V7h2v10zm4 0h-2v-4h2v4z\"/>\n",
              "    </g>\n",
              "</svg>\n",
              "  </button>\n",
              "\n",
              "<style>\n",
              "  .colab-df-quickchart {\n",
              "      --bg-color: #E8F0FE;\n",
              "      --fill-color: #1967D2;\n",
              "      --hover-bg-color: #E2EBFA;\n",
              "      --hover-fill-color: #174EA6;\n",
              "      --disabled-fill-color: #AAA;\n",
              "      --disabled-bg-color: #DDD;\n",
              "  }\n",
              "\n",
              "  [theme=dark] .colab-df-quickchart {\n",
              "      --bg-color: #3B4455;\n",
              "      --fill-color: #D2E3FC;\n",
              "      --hover-bg-color: #434B5C;\n",
              "      --hover-fill-color: #FFFFFF;\n",
              "      --disabled-bg-color: #3B4455;\n",
              "      --disabled-fill-color: #666;\n",
              "  }\n",
              "\n",
              "  .colab-df-quickchart {\n",
              "    background-color: var(--bg-color);\n",
              "    border: none;\n",
              "    border-radius: 50%;\n",
              "    cursor: pointer;\n",
              "    display: none;\n",
              "    fill: var(--fill-color);\n",
              "    height: 32px;\n",
              "    padding: 0;\n",
              "    width: 32px;\n",
              "  }\n",
              "\n",
              "  .colab-df-quickchart:hover {\n",
              "    background-color: var(--hover-bg-color);\n",
              "    box-shadow: 0 1px 2px rgba(60, 64, 67, 0.3), 0 1px 3px 1px rgba(60, 64, 67, 0.15);\n",
              "    fill: var(--button-hover-fill-color);\n",
              "  }\n",
              "\n",
              "  .colab-df-quickchart-complete:disabled,\n",
              "  .colab-df-quickchart-complete:disabled:hover {\n",
              "    background-color: var(--disabled-bg-color);\n",
              "    fill: var(--disabled-fill-color);\n",
              "    box-shadow: none;\n",
              "  }\n",
              "\n",
              "  .colab-df-spinner {\n",
              "    border: 2px solid var(--fill-color);\n",
              "    border-color: transparent;\n",
              "    border-bottom-color: var(--fill-color);\n",
              "    animation:\n",
              "      spin 1s steps(1) infinite;\n",
              "  }\n",
              "\n",
              "  @keyframes spin {\n",
              "    0% {\n",
              "      border-color: transparent;\n",
              "      border-bottom-color: var(--fill-color);\n",
              "      border-left-color: var(--fill-color);\n",
              "    }\n",
              "    20% {\n",
              "      border-color: transparent;\n",
              "      border-left-color: var(--fill-color);\n",
              "      border-top-color: var(--fill-color);\n",
              "    }\n",
              "    30% {\n",
              "      border-color: transparent;\n",
              "      border-left-color: var(--fill-color);\n",
              "      border-top-color: var(--fill-color);\n",
              "      border-right-color: var(--fill-color);\n",
              "    }\n",
              "    40% {\n",
              "      border-color: transparent;\n",
              "      border-right-color: var(--fill-color);\n",
              "      border-top-color: var(--fill-color);\n",
              "    }\n",
              "    60% {\n",
              "      border-color: transparent;\n",
              "      border-right-color: var(--fill-color);\n",
              "    }\n",
              "    80% {\n",
              "      border-color: transparent;\n",
              "      border-right-color: var(--fill-color);\n",
              "      border-bottom-color: var(--fill-color);\n",
              "    }\n",
              "    90% {\n",
              "      border-color: transparent;\n",
              "      border-bottom-color: var(--fill-color);\n",
              "    }\n",
              "  }\n",
              "</style>\n",
              "\n",
              "  <script>\n",
              "    async function quickchart(key) {\n",
              "      const quickchartButtonEl =\n",
              "        document.querySelector('#' + key + ' button');\n",
              "      quickchartButtonEl.disabled = true;  // To prevent multiple clicks.\n",
              "      quickchartButtonEl.classList.add('colab-df-spinner');\n",
              "      try {\n",
              "        const charts = await google.colab.kernel.invokeFunction(\n",
              "            'suggestCharts', [key], {});\n",
              "      } catch (error) {\n",
              "        console.error('Error during call to suggestCharts:', error);\n",
              "      }\n",
              "      quickchartButtonEl.classList.remove('colab-df-spinner');\n",
              "      quickchartButtonEl.classList.add('colab-df-quickchart-complete');\n",
              "    }\n",
              "    (() => {\n",
              "      let quickchartButtonEl =\n",
              "        document.querySelector('#df-2ddbe1c8-4d07-49bd-9325-063ed9ee9279 button');\n",
              "      quickchartButtonEl.style.display =\n",
              "        google.colab.kernel.accessAllowed ? 'block' : 'none';\n",
              "    })();\n",
              "  </script>\n",
              "</div>\n",
              "\n",
              "  <div id=\"id_f6e95617-dfbb-4adc-a3c5-b2ef269ab9db\">\n",
              "    <style>\n",
              "      .colab-df-generate {\n",
              "        background-color: #E8F0FE;\n",
              "        border: none;\n",
              "        border-radius: 50%;\n",
              "        cursor: pointer;\n",
              "        display: none;\n",
              "        fill: #1967D2;\n",
              "        height: 32px;\n",
              "        padding: 0 0 0 0;\n",
              "        width: 32px;\n",
              "      }\n",
              "\n",
              "      .colab-df-generate:hover {\n",
              "        background-color: #E2EBFA;\n",
              "        box-shadow: 0px 1px 2px rgba(60, 64, 67, 0.3), 0px 1px 3px 1px rgba(60, 64, 67, 0.15);\n",
              "        fill: #174EA6;\n",
              "      }\n",
              "\n",
              "      [theme=dark] .colab-df-generate {\n",
              "        background-color: #3B4455;\n",
              "        fill: #D2E3FC;\n",
              "      }\n",
              "\n",
              "      [theme=dark] .colab-df-generate:hover {\n",
              "        background-color: #434B5C;\n",
              "        box-shadow: 0px 1px 3px 1px rgba(0, 0, 0, 0.15);\n",
              "        filter: drop-shadow(0px 1px 2px rgba(0, 0, 0, 0.3));\n",
              "        fill: #FFFFFF;\n",
              "      }\n",
              "    </style>\n",
              "    <button class=\"colab-df-generate\" onclick=\"generateWithVariable('language_worked_df')\"\n",
              "            title=\"Generate code using this dataframe.\"\n",
              "            style=\"display:none;\">\n",
              "\n",
              "  <svg xmlns=\"http://www.w3.org/2000/svg\" height=\"24px\"viewBox=\"0 0 24 24\"\n",
              "       width=\"24px\">\n",
              "    <path d=\"M7,19H8.4L18.45,9,17,7.55,7,17.6ZM5,21V16.75L18.45,3.32a2,2,0,0,1,2.83,0l1.4,1.43a1.91,1.91,0,0,1,.58,1.4,1.91,1.91,0,0,1-.58,1.4L9.25,21ZM18.45,9,17,7.55Zm-12,3A5.31,5.31,0,0,0,4.9,8.1,5.31,5.31,0,0,0,1,6.5,5.31,5.31,0,0,0,4.9,4.9,5.31,5.31,0,0,0,6.5,1,5.31,5.31,0,0,0,8.1,4.9,5.31,5.31,0,0,0,12,6.5,5.46,5.46,0,0,0,6.5,12Z\"/>\n",
              "  </svg>\n",
              "    </button>\n",
              "    <script>\n",
              "      (() => {\n",
              "      const buttonEl =\n",
              "        document.querySelector('#id_f6e95617-dfbb-4adc-a3c5-b2ef269ab9db button.colab-df-generate');\n",
              "      buttonEl.style.display =\n",
              "        google.colab.kernel.accessAllowed ? 'block' : 'none';\n",
              "\n",
              "      buttonEl.onclick = () => {\n",
              "        google.colab.notebook.generateWithVariable('language_worked_df');\n",
              "      }\n",
              "      })();\n",
              "    </script>\n",
              "  </div>\n",
              "\n",
              "    </div>\n",
              "  </div>\n"
            ]
          },
          "metadata": {},
          "execution_count": 34
        }
      ]
    },
    {
      "cell_type": "markdown",
      "source": [
        "> It appears that a total of 25 languages were included among the options. Let's aggregate these to identify the percentage of respondents who selected each language."
      ],
      "metadata": {
        "id": "ilnYDJoquCrd"
      }
    },
    {
      "cell_type": "code",
      "source": [
        "languages_worked_percentages = language_worked_df.mean().sort_values(ascending=False)*100\n",
        "languages_worked_percentages"
      ],
      "metadata": {
        "colab": {
          "base_uri": "https://localhost:8080/"
        },
        "id": "TzB1kxwHtMj1",
        "outputId": "8cc598d8-b04d-4509-cdd5-8be862005ee5"
      },
      "execution_count": 35,
      "outputs": [
        {
          "output_type": "execute_result",
          "data": {
            "text/plain": [
              "JavaScript               67.349097\n",
              "HTML/CSS                 62.631947\n",
              "SQL                      54.672254\n",
              "Python                   43.851142\n",
              "Java                     39.451262\n",
              "Bash/Shell/PowerShell    33.742392\n",
              "C#                       31.399781\n",
              "TypeScript               25.613090\n",
              "PHP                      25.499351\n",
              "C++                      23.210616\n",
              "C                        20.963783\n",
              "Go                        8.755862\n",
              "Kotlin                    7.744188\n",
              "Ruby                      7.063753\n",
              "VBA                       6.002195\n",
              "Assembly                  5.956301\n",
              "Swift                     5.868502\n",
              "R                         5.643021\n",
              "Rust                      5.152150\n",
              "Objective-C               4.004789\n",
              "Dart                      3.851142\n",
              "Scala                     3.565799\n",
              "Perl                      3.060960\n",
              "Haskell                   2.017360\n",
              "Julia                     0.808141\n",
              "dtype: float64"
            ]
          },
          "metadata": {},
          "execution_count": 35
        }
      ]
    },
    {
      "cell_type": "markdown",
      "source": [
        "We can now plot this information using a horizontal bar chart."
      ],
      "metadata": {
        "id": "VIWBugho7-Gz"
      }
    },
    {
      "cell_type": "code",
      "source": [
        "plt.figure(figsize=(9,6))\n",
        "sns.barplot(x=languages_worked_percentages, y=languages_worked_percentages.index)\n",
        "plt.title(\"Languages used in the past year\")\n",
        "plt.xlabel(\"Count\");"
      ],
      "metadata": {
        "colab": {
          "base_uri": "https://localhost:8080/",
          "height": 564
        },
        "id": "QwIGQSnOvC-k",
        "outputId": "155ef9b9-bd34-4846-b04b-ec43672805da"
      },
      "execution_count": 36,
      "outputs": [
        {
          "output_type": "display_data",
          "data": {
            "text/plain": [
              "<Figure size 900x600 with 1 Axes>"
            ],
            "image/png": "[encoded data removed]"
          },
          "metadata": {
            "needs_background": "light"
          }
        }
      ]
    },
    {
      "cell_type": "markdown",
      "source": [
        "> Not surprisingly, JavaScript and HTML/CSS emerge as leading skills due to the high demand for web development expertise in today's landscape. Interestingly, web development happens to be one of the most accessible skills to begin mastering. SQL, essential for handling relational databases, is a common tool regularly used by most programmers. Python stands out as a popular preference for various development purposes, surpassing Java, which previously held the position as the industry standard for server and application development for more than twenty years."
      ],
      "metadata": {
        "id": "mNB0bGw39qZJ"
      }
    },
    {
      "cell_type": "markdown",
      "source": [
        "**For Deeper Analysis:**\n",
        "\n",
        "* What are the most common languages used by students? How does the list compare with the most common languages used by professional developers?\n",
        "* What are the most common languages among respondents who do not describe themselves as \"Developer, front-end\"?\n",
        "* What are the most common languages among respondents who work in fields related to data science?\n",
        "* What are the most common languages used by developers older than 35 years of age?\n",
        "* What are the most common languages used by developers in your home country?"
      ],
      "metadata": {
        "id": "W39Wuo4t9u1Q"
      }
    },
    {
      "cell_type": "markdown",
      "source": [
        "####**Q: Which languages are the most people interested to learn over the next year?**\n",
        "For this, we can use the `LanguageDesireNextYear`"
      ],
      "metadata": {
        "id": "eMEKxiu1-DMU"
      }
    },
    {
      "cell_type": "code",
      "source": [
        "language_interested_df = split_multicolumn(survey_df.LanguageDesireNextYear)\n",
        "languages_interested_percentages = language_interested_df.mean().sort_values(ascending=False)*100\n",
        "languages_interested_percentages"
      ],
      "metadata": {
        "colab": {
          "base_uri": "https://localhost:8080/"
        },
        "id": "aJ1cKoky8Wc3",
        "outputId": "531f5916-99e4-433d-9a51-0c637ff4ae96"
      },
      "execution_count": 37,
      "outputs": [
        {
          "output_type": "stream",
          "name": "stderr",
          "text": [
            "<ipython-input-33-26a445763b0d>:5: FutureWarning: iteritems is deprecated and will be removed in a future version. Use .items instead.\n",
            "  for idx, value  in col_series[col_series.notnull()].iteritems():\n"
          ]
        },
        {
          "output_type": "execute_result",
          "data": {
            "text/plain": [
              "Python                   46.467126\n",
              "JavaScript               45.756759\n",
              "HTML/CSS                 36.543949\n",
              "SQL                      35.125212\n",
              "TypeScript               30.320263\n",
              "C#                       24.128504\n",
              "Java                     22.745685\n",
              "Go                       22.274768\n",
              "Bash/Shell/PowerShell    20.941834\n",
              "Rust                     18.796767\n",
              "C++                      16.893146\n",
              "Kotlin                   16.673651\n",
              "PHP                      11.982440\n",
              "C                        10.459942\n",
              "Swift                     9.815425\n",
              "Dart                      8.221091\n",
              "R                         7.237354\n",
              "Ruby                      7.127607\n",
              "Scala                     5.960291\n",
              "Haskell                   5.158136\n",
              "Assembly                  4.098573\n",
              "Julia                     2.797566\n",
              "Objective-C               2.482291\n",
              "Perl                      1.865709\n",
              "VBA                       1.702085\n",
              "dtype: float64"
            ]
          },
          "metadata": {},
          "execution_count": 37
        }
      ]
    },
    {
      "cell_type": "code",
      "source": [
        "plt.figure(figsize=(9,6))\n",
        "sns.barplot(x=languages_interested_percentages, y=languages_interested_percentages.index)\n",
        "plt.title(\"Languages people are intersted in learning over the next year\")\n",
        "plt.xlabel(\"Count\");"
      ],
      "metadata": {
        "colab": {
          "base_uri": "https://localhost:8080/",
          "height": 564
        },
        "id": "nWWdc7qe-Smd",
        "outputId": "c2eab332-76b7-4e13-da10-838dfc898283"
      },
      "execution_count": 38,
      "outputs": [
        {
          "output_type": "display_data",
          "data": {
            "text/plain": [
              "<Figure size 900x600 with 1 Axes>"
            ],
            "image/png": "[encoded data removed]"
          },
          "metadata": {
            "needs_background": "light"
          }
        }
      ]
    },
    {
      "cell_type": "markdown",
      "source": [
        "> It's unsurprising that Python stands out as the top language people are eager to learn. This is owed to its reputation as an accessible, versatile programming language that fits well across various domains: be it application development, numerical computing, data analysis, machine learning, big data handling, cloud automation, web scraping, scripting, and more."
      ],
      "metadata": {
        "id": "4gNh4cQcdB4h"
      }
    },
    {
      "cell_type": "markdown",
      "source": [
        "####**Q: Which are the most loved languages, i.e., a high percentage of people who have used the language want to continue learning & using it over the next year?**"
      ],
      "metadata": {
        "id": "1YAj63PQddJT"
      }
    },
    {
      "cell_type": "markdown",
      "source": [
        "To achieve this we need to create a new data frame `language_loved_df`, where a language is marked as '`True`' only if it holds a '`True`' value in both `language_worked_df` and `language_interested_df`."
      ],
      "metadata": {
        "id": "XO5qu8aGeoqg"
      }
    },
    {
      "cell_type": "code",
      "source": [
        "language_loved_df = language_worked_df & language_interested_df"
      ],
      "metadata": {
        "id": "l4bP0MilcuIq"
      },
      "execution_count": 39,
      "outputs": []
    },
    {
      "cell_type": "code",
      "source": [
        "language_loved_percentage = (language_loved_df.sum() * 100 / language_worked_df.sum()).sort_values(ascending=False)\n",
        "language_loved_percentage"
      ],
      "metadata": {
        "colab": {
          "base_uri": "https://localhost:8080/"
        },
        "id": "CD0cM2YPfQAi",
        "outputId": "fd40545f-7eac-49d6-be70-2de913c8d31b"
      },
      "execution_count": 46,
      "outputs": [
        {
          "output_type": "execute_result",
          "data": {
            "text/plain": [
              "Rust                     86.676995\n",
              "TypeScript               67.918355\n",
              "Python                   67.582818\n",
              "Kotlin                   63.849523\n",
              "Dart                     62.746114\n",
              "Go                       62.579763\n",
              "Julia                    61.481481\n",
              "C#                       60.911286\n",
              "Swift                    60.557633\n",
              "JavaScript               59.119460\n",
              "SQL                      57.480200\n",
              "HTML/CSS                 54.629158\n",
              "Bash/Shell/PowerShell    54.269663\n",
              "Scala                    53.217683\n",
              "Haskell                  50.445104\n",
              "R                        44.908062\n",
              "Java                     44.762531\n",
              "C++                      44.523728\n",
              "Ruby                     42.711864\n",
              "PHP                      37.475546\n",
              "C                        33.999619\n",
              "Assembly                 28.140704\n",
              "Perl                     27.574967\n",
              "Objective-C              21.923269\n",
              "VBA                      18.716755\n",
              "dtype: float64"
            ]
          },
          "metadata": {},
          "execution_count": 46
        }
      ]
    },
    {
      "cell_type": "code",
      "source": [
        "plt.figure(figsize=(9, 6))\n",
        "sns.barplot(x=language_loved_percentage, y=language_loved_percentage.index)\n",
        "plt.title(\"Most loved languages\");\n",
        "plt.xlabel('count');"
      ],
      "metadata": {
        "colab": {
          "base_uri": "https://localhost:8080/",
          "height": 564
        },
        "id": "r9_4eyPAlv7n",
        "outputId": "4714ce49-9be9-4fe9-9783-07117f3f07ad"
      },
      "execution_count": 47,
      "outputs": [
        {
          "output_type": "display_data",
          "data": {
            "text/plain": [
              "<Figure size 900x600 with 1 Axes>"
            ],
            "image/png": "[encoded data removed]"
          },
          "metadata": {
            "needs_background": "light"
          }
        }
      ]
    },
    {
      "cell_type": "markdown",
      "source": [
        "> For four consecutive years, [Rust](https://en.wikipedia.org/wiki/Rust_(programming_language)) has held the title of [StackOverflow's most favored language](https://stackoverflow.blog/2020/01/20/what-is-rust-and-why-is-it-so-popular/). Following closely behind as the second most admired language is TypeScript, renowned as a compelling substitute for JavaScript in the realm of web development. Claiming the third spot is Python, a language of significant prominence despite already standing as one of the most extensively utilized languages globally. Python's appeal lies in its robust underpinnings, user-friendly nature, expansive collection of specialized libraries, and the immense support of a global community."
      ],
      "metadata": {
        "id": "4e5Xp0FOmcnl"
      }
    },
    {
      "cell_type": "markdown",
      "source": [
        "####**Q: How important is it to start young to build a career in programming?**\n",
        "Let's create a scatter plot of `Age` vs. `YearsCodePro` (i.e., years of coding experience) to answer this question."
      ],
      "metadata": {
        "id": "kp8F2CAmsHrE"
      }
    },
    {
      "cell_type": "code",
      "source": [
        "schema.YearsCodePro"
      ],
      "metadata": {
        "colab": {
          "base_uri": "https://localhost:8080/",
          "height": 35
        },
        "id": "-kZDxQd1l5yy",
        "outputId": "ec40d337-a39f-41f8-896f-99b5179cb0ec"
      },
      "execution_count": 48,
      "outputs": [
        {
          "output_type": "execute_result",
          "data": {
            "text/plain": [
              "'NOT including education, how many years have you coded professionally (as a part of your work)?'"
            ],
            "application/vnd.google.colaboratory.intrinsic+json": {
              "type": "string"
            }
          },
          "metadata": {},
          "execution_count": 48
        }
      ]
    },
    {
      "cell_type": "code",
      "source": [
        "sns.scatterplot(x=\"Age\", y=\"YearsCodePro\", hue=\"Hobbyist\", data=survey_df)\n",
        "plt.xlabel(\"Age\")\n",
        "plt.ylabel(\"Years of professional coding experience\");"
      ],
      "metadata": {
        "colab": {
          "base_uri": "https://localhost:8080/",
          "height": 465
        },
        "id": "7W-SDCTksT36",
        "outputId": "32ff203c-aec1-41a9-88f2-522dfc2c224b"
      },
      "execution_count": 49,
      "outputs": [
        {
          "output_type": "display_data",
          "data": {
            "text/plain": [
              "<Figure size 900x500 with 1 Axes>"
            ],
            "image/png": "[encoded data removed]"
          },
          "metadata": {
            "needs_background": "light"
          }
        }
      ]
    },
    {
      "cell_type": "markdown",
      "source": [
        "> Across the graph, various data points highlight the diverse starting ages for professional programming. It's evident that individuals can commence their programming careers at different stages of life. Interestingly, a considerable number of professionals who've been coding for numerous decades also engage in it as a personal hobby."
      ],
      "metadata": {
        "id": "aLryV-vwteKB"
      }
    },
    {
      "cell_type": "markdown",
      "source": [
        "We can also view the distribution of the `Age1stCode` column to see when the respondents tried programming for the first time."
      ],
      "metadata": {
        "id": "afCS3tRXtjpl"
      }
    },
    {
      "cell_type": "code",
      "source": [
        "plt.title(schema.Age1stCode)\n",
        "sns.histplot(x=survey_df.Age1stCode, bins=30, kde=True);"
      ],
      "metadata": {
        "colab": {
          "base_uri": "https://localhost:8080/",
          "height": 487
        },
        "id": "SkFhYELCs9ge",
        "outputId": "22ff0676-86d5-42e0-8346-ec65258aa8f6"
      },
      "execution_count": 51,
      "outputs": [
        {
          "output_type": "display_data",
          "data": {
            "text/plain": [
              "<Figure size 900x500 with 1 Axes>"
            ],
            "image/png": "[encoded data removed]"
          },
          "metadata": {
            "needs_background": "light"
          }
        }
      ]
    },
    {
      "cell_type": "markdown",
      "source": [
        "> As you might expect, most people seem to have had some exposure to programming before the age of 40. However, but there are people of all ages and walks of life learning to code."
      ],
      "metadata": {
        "id": "L3KWntzLuA22"
      }
    }
  ]
}